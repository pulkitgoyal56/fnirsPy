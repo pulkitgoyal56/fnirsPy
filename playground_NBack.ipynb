{
 "cells": [
  {
   "cell_type": "markdown",
   "id": "e58e5d10-a56c-44be-91c8-f0263cb93cc2",
   "metadata": {
    "jp-MarkdownHeadingCollapsed": true,
    "tags": []
   },
   "source": [
    "# Imports"
   ]
  },
  {
   "cell_type": "code",
   "execution_count": 1,
   "id": "22f15b72-d26f-4e33-a01e-6535d2a20537",
   "metadata": {},
   "outputs": [],
   "source": [
    "# Logging and warnings\n",
    "import logging\n",
    "\n",
    "# File R/W\n",
    "import os\n",
    "\n",
    "# Additional Inbuilt Utilities\n",
    "import itertools\n",
    "import functools\n",
    "\n",
    "# Regex\n",
    "import re\n",
    "\n",
    "# Array\n",
    "import numpy as np\n",
    "\n",
    "# Table\n",
    "import pandas as pd\n",
    "\n",
    "# Advanced Computations\n",
    "import scipy as sc\n",
    "\n",
    "# Statistics\n",
    "import statsmodels.api as sm\n",
    "import statsmodels.stats as st\n",
    "\n",
    "# Neurophysiological Data Analysis\n",
    "import mne\n",
    "import mne_nirs # esp. for fNIRS\n",
    "\n",
    "# Neuroimaging Statistical Tools\n",
    "import nilearn\n",
    "import nilearn.plotting\n",
    "\n",
    "# Plotting\n",
    "import matplotlib.pyplot as plt\n",
    "\n",
    "# Vistual Display\n",
    "from pyvirtualdisplay import Display"
   ]
  },
  {
   "cell_type": "code",
   "execution_count": 2,
   "id": "8b8c124c-8401-4761-8854-854099ba2352",
   "metadata": {
    "tags": []
   },
   "outputs": [],
   "source": [
    "# Autoreload Custom Modules\n",
    "%load_ext autoreload\n",
    "%autoreload 1\n",
    "\n",
    "# Custom Class\n",
    "%aimport nirs\n",
    "NIRS = nirs.NIRS\n",
    "\n",
    "# Custom Settings\n",
    "%aimport constants\n",
    "\n",
    "# Custom Functions\n",
    "%aimport utils\n",
    "\n",
    "# Modified MBLL\n",
    "%aimport mbll"
   ]
  },
  {
   "cell_type": "markdown",
   "id": "fee37a86-6ff6-4f58-abcf-98002ad5cc6c",
   "metadata": {
    "jp-MarkdownHeadingCollapsed": true,
    "tags": []
   },
   "source": [
    "## Config"
   ]
  },
  {
   "cell_type": "code",
   "execution_count": 3,
   "id": "83055f20-573e-46f6-9747-d5011a4f6a65",
   "metadata": {},
   "outputs": [],
   "source": [
    "# Set logging level for custom modules\n",
    "logging.getLogger().setLevel(logging.INFO)"
   ]
  },
  {
   "cell_type": "code",
   "execution_count": 4,
   "id": "635e9279-25b2-4f38-9129-e83aa38f4ed0",
   "metadata": {},
   "outputs": [],
   "source": [
    "# Set logging level for MNE\n",
    "mne.set_log_level('WARNING')"
   ]
  },
  {
   "cell_type": "code",
   "execution_count": 5,
   "id": "625b59f2-363a-457f-9264-8d357a1426b5",
   "metadata": {},
   "outputs": [],
   "source": [
    "# Set plotting backend for MNE\n",
    "mne.viz.set_browser_backend('matplotlib') # qt, matplotlib\n",
    "mne.viz.set_3d_backend('notebook') # pyvistaqt, notebook"
   ]
  },
  {
   "cell_type": "raw",
   "id": "44bfc7c6-f20a-48df-9807-aa812417c60a",
   "metadata": {},
   "source": [
    "# # Set recommended (by MNE) plotting backend\n",
    "# %matplotlib qt"
   ]
  },
  {
   "cell_type": "raw",
   "id": "474ba645-f9c6-44d4-b295-5431724c4128",
   "metadata": {},
   "source": [
    "# # Setup and start xvfb virtual display\n",
    "# disp = Display()\n",
    "# disp.start()"
   ]
  },
  {
   "cell_type": "markdown",
   "id": "0f746fc3-9fcb-4f87-a09a-85bd028c5d6e",
   "metadata": {
    "tags": []
   },
   "source": [
    "# MAIN"
   ]
  },
  {
   "cell_type": "markdown",
   "id": "583dfc5c-b818-4b14-aa28-f09febbd6f1f",
   "metadata": {
    "tags": []
   },
   "source": [
    "##### `Pre-Processing`"
   ]
  },
  {
   "cell_type": "raw",
   "id": "9f29fc48-a21b-4972-8163-bba007022c57",
   "metadata": {},
   "source": [
    "# Instantiate NIRS() and read data\n",
    "nirs = NIRS(project='NBack') # Working-Memory # Multi-object Tracking\n",
    "nirs.read(1, 1, 1, augment=False, transform=False, correction_factor=0.779);"
   ]
  },
  {
   "cell_type": "raw",
   "id": "14ce3844-821e-4785-9253-d7f21017f104",
   "metadata": {
    "tags": []
   },
   "source": [
    "# Pre-process the data using the default pipeline.\n",
    "# Output is a dictionary of intermediate mne.Raw instances.\n",
    "# Stages: CW     (raw signal)\n",
    "#         CWx    (backlight removed raw signal)\n",
    "#         OD     (optical density)\n",
    "#         TDDR   (motion artifact removal)\n",
    "#         AP     (autopick channels)\n",
    "#         SSR    (short-channel regression)\n",
    "#         HB     (chromophore/haemoglobin)\n",
    "#         LS     (pick long channels, after saving short channels)\n",
    "#         FL     (bandpass filtering)\n",
    "#         NCE    (negative correlation improvement)\n",
    "savepoints = nirs.default_pipeline(remove_backlight=True,\n",
    "                                   tddr=True,\n",
    "                                   scalp_coupling_index=True,\n",
    "                                   autopick_channels=True,\n",
    "                                   short_channel_regression=True,\n",
    "                                   bandpass=True,\n",
    "                                   negative_correlation_enhancement=False,\n",
    "                                   threshold_heart_rate=0.5,\n",
    "                                   show_failed=False,\n",
    "                                   l_trans_bandwidth=0.007,\n",
    "                                   h_trans_bandwidth=0.007)"
   ]
  },
  {
   "cell_type": "code",
   "execution_count": null,
   "id": "96b1655d-fdb0-4b6b-89ba-be396c12050a",
   "metadata": {},
   "outputs": [],
   "source": [
    "nirs_1 = NIRS(project='NBack').read(1, 1, 1, augment=True, transform=False, correction_factor=0.779)\n",
    "nirs_2 = NIRS(project='NBack').read(1, 1, 2, augment=True, transform=False, correction_factor=0.779)"
   ]
  },
  {
   "cell_type": "code",
   "execution_count": null,
   "id": "a2ae0fb3-0dfb-49a9-a88d-280dc4e6e3cc",
   "metadata": {},
   "outputs": [],
   "source": [
    "savepoints_1 = nirs_1.default_pipeline(remove_backlight=True, tddr=True, autopick_channels=True, short_channel_regression=True, bandpass=True, negative_correlation_enhancement=False, l_trans_bandwidth=0.007, h_trans_bandwidth=0.007, threshold_heart_rate=0.5)\n",
    "savepoints_2 = nirs_2.default_pipeline(remove_backlight=True, tddr=True, autopick_channels=True, short_channel_regression=True, bandpass=True, negative_correlation_enhancement=False, l_trans_bandwidth=0.007, h_trans_bandwidth=0.007, threshold_heart_rate=0.5)"
   ]
  },
  {
   "cell_type": "code",
   "execution_count": 8,
   "id": "1df298b4-792c-43fd-a85e-47cd911e822b",
   "metadata": {},
   "outputs": [],
   "source": [
    "nirs_1.get_epochs(tmin=-5, tmax=15, baseline=(-0.1, 0))\n",
    "nirs_2.get_epochs(tmin=-5, tmax=15, baseline=(-0.1, 0));\n",
    "\n",
    "# Drop epochs where response was not correct\n",
    "# nirs_1.epochs.drop(nirs_1.mat['id_correct'] != 1)\n",
    "# nirs_2.epochs.drop(nirs_2.mat['id_correct'] != 1)\n",
    "\n",
    "nirs_1.block_average();\n",
    "nirs_2.block_average();"
   ]
  },
  {
   "cell_type": "code",
   "execution_count": 9,
   "id": "ba5a83d6-8d22-40e4-878a-1e41549f2c1a",
   "metadata": {},
   "outputs": [],
   "source": [
    "nirs = nirs_1 + nirs_2"
   ]
  },
  {
   "cell_type": "code",
   "execution_count": 10,
   "id": "0970450f-cd38-4297-979b-6431b89ef0ea",
   "metadata": {},
   "outputs": [],
   "source": [
    "raw_haemo = nirs.raw.copy().pick(nirs.good_ch_names)"
   ]
  },
  {
   "cell_type": "code",
   "execution_count": 11,
   "id": "1d5ecaf7-2ffb-4bbb-9171-3d41e4095b58",
   "metadata": {
    "tags": []
   },
   "outputs": [],
   "source": [
    "# nirs.get_epochs(tmin=-5, # -(nirs.DUR['wait'])\n",
    "#                 tmax=15, # (nirs.DUR['motion'] + nirs.DUR['probe'] + nirs.DUR['feedb'])\n",
    "#                 baseline=(-0.1, 0));\n",
    "\n",
    "# Drop epochs where response was not correct\n",
    "# nirs.epochs.drop(pd.concat(nirs.mat)['id_correct'] != 1);\n",
    "\n",
    "nirs.block_average();"
   ]
  },
  {
   "cell_type": "raw",
   "id": "c38728d2-8b77-4ae8-96a7-00087fe4ba3f",
   "metadata": {},
   "source": [
    "nirs.raw.plot_sensors(ch_type='hbo', show_names=utils.filter_channels('S(\\d+)_D(\\d+) (.+)', lambda s, d, t: s > d and t == 'hbo', nirs.raw.ch_names)[0]);"
   ]
  },
  {
   "cell_type": "raw",
   "id": "b67d8c18-4c44-4e4e-8e62-d5a5376f3dbc",
   "metadata": {},
   "source": [
    "mne.viz.plot_epochs_image(nirs.epochs, picks=nirs.goof_ch_names, sigma=.5, vmin=-10, vmax=10, show=True)"
   ]
  },
  {
   "cell_type": "raw",
   "id": "2c2ea2db-2d9a-43bb-a24a-323e88473f04",
   "metadata": {},
   "source": [
    "mne.viz.plot_compare_evokeds(nirs.evoked_dict, picks=nirs.good_ch_names[-1], combine='mean', ci=0.95, axes=plt.figure(figsize=(16, 4)).add_subplot(111),\n",
    "                             colors={'0': 'k', '2': 'r', '3':'g', '4':'b', '5':'y'},\n",
    "                             linestyles={'hbo': '-',\n",
    "                                         'hbr': ':'},\n",
    "                             ylim={'hbo': [-5, 5]},\n",
    "                             title='Signal Averages Across Trials and Channels for Number of Targets');"
   ]
  },
  {
   "cell_type": "raw",
   "id": "27b6ab5b-bcf4-4646-8235-27ea13337965",
   "metadata": {},
   "source": [
    "nirs.epochs['0'].average(picks='hbo').plot_joint(times=np.arange(nirs.T_EPOCH_START, nirs.T_EPOCH_END, 3), topomap_args={'extrapolate': 'local'});"
   ]
  },
  {
   "cell_type": "markdown",
   "id": "0d44ad10-da17-4322-9518-b890037d261f",
   "metadata": {
    "jp-MarkdownHeadingCollapsed": true,
    "tags": []
   },
   "source": [
    "##### `GLM Analysis`\n",
    "\n",
    "... GLM Analysis using inbuilt MNE functions ...\n",
    "> Find significant channels and their 𝛽 values for the different load conditions"
   ]
  },
  {
   "cell_type": "code",
   "execution_count": 12,
   "id": "32db1336-1692-4cc8-85a0-495d50361322",
   "metadata": {
    "tags": []
   },
   "outputs": [],
   "source": [
    "design_matrix = mne_nirs.experimental_design.make_first_level_design_matrix(raw_haemo,\n",
    "                                                                            hrf_model= 'spm', # 'spm + derivative + dispersion',\n",
    "                                                                            drift_model=None, # 'cosine', 'polynomial'\n",
    "                                                                            # drift_order=3,\n",
    "                                                                            # high_pass=1/2/(nirs.DUR['trial']),\n",
    "                                                                            stim_dur=nirs.DUR['motion'])\n",
    "\n",
    "# design_matrix['mean_ss_hbo'] = np.mean(nirs.raw_ss.copy().pick('hbo').get_data(), axis=0)\n",
    "# design_matrix['mean_ss_hbr'] = np.mean(nirs.raw_ss.copy().pick('hbr').get_data(), axis=0)"
   ]
  },
  {
   "cell_type": "code",
   "execution_count": 13,
   "id": "0ce1ae9b-1ca2-4f9c-9a90-f8d5d05607a4",
   "metadata": {},
   "outputs": [],
   "source": [
    "glm_est = mne_nirs.statistics.run_glm(raw_haemo, design_matrix)\n",
    "glm_results = glm_est.to_dataframe()"
   ]
  },
  {
   "cell_type": "code",
   "execution_count": 14,
   "id": "a8900b59-90c7-4f11-84c7-c8c11cabba10",
   "metadata": {},
   "outputs": [],
   "source": [
    "glm_results['Significant'] = st.multitest.multipletests(glm_results['p_value'])[0]"
   ]
  },
  {
   "cell_type": "code",
   "execution_count": 15,
   "id": "d8143c5f-6b86-4af5-ae64-5b68fa62e753",
   "metadata": {},
   "outputs": [
    {
     "data": {
      "text/html": [
       "<div>\n",
       "<style scoped>\n",
       "    .dataframe tbody tr th:only-of-type {\n",
       "        vertical-align: middle;\n",
       "    }\n",
       "\n",
       "    .dataframe tbody tr th {\n",
       "        vertical-align: top;\n",
       "    }\n",
       "\n",
       "    .dataframe thead th {\n",
       "        text-align: right;\n",
       "    }\n",
       "</style>\n",
       "<table border=\"1\" class=\"dataframe\">\n",
       "  <thead>\n",
       "    <tr style=\"text-align: right;\">\n",
       "      <th>variable</th>\n",
       "      <th>Condition</th>\n",
       "      <th>df</th>\n",
       "      <th>mse</th>\n",
       "      <th>p_value</th>\n",
       "      <th>se</th>\n",
       "      <th>t</th>\n",
       "      <th>theta</th>\n",
       "      <th>Source</th>\n",
       "      <th>Detector</th>\n",
       "      <th>Chroma</th>\n",
       "      <th>Significant</th>\n",
       "      <th>ch_name</th>\n",
       "    </tr>\n",
       "  </thead>\n",
       "  <tbody>\n",
       "    <tr>\n",
       "      <th>7</th>\n",
       "      <td>LOW</td>\n",
       "      <td>3.0</td>\n",
       "      <td>1.888109e-14</td>\n",
       "      <td>0.000144</td>\n",
       "      <td>9.661449e-08</td>\n",
       "      <td>-24.807393</td>\n",
       "      <td>-0.000002</td>\n",
       "      <td>33</td>\n",
       "      <td>40</td>\n",
       "      <td>hbo</td>\n",
       "      <td>True</td>\n",
       "      <td>S33_D40 hbo</td>\n",
       "    </tr>\n",
       "    <tr>\n",
       "      <th>19</th>\n",
       "      <td>LOW</td>\n",
       "      <td>3.0</td>\n",
       "      <td>9.030607e-15</td>\n",
       "      <td>0.000308</td>\n",
       "      <td>6.681703e-08</td>\n",
       "      <td>-19.201676</td>\n",
       "      <td>-0.000001</td>\n",
       "      <td>33</td>\n",
       "      <td>43</td>\n",
       "      <td>hbo</td>\n",
       "      <td>True</td>\n",
       "      <td>S33_D43 hbo</td>\n",
       "    </tr>\n",
       "    <tr>\n",
       "      <th>52</th>\n",
       "      <td>LOW</td>\n",
       "      <td>3.0</td>\n",
       "      <td>4.417735e-14</td>\n",
       "      <td>0.000177</td>\n",
       "      <td>1.477844e-07</td>\n",
       "      <td>-23.109937</td>\n",
       "      <td>-0.000003</td>\n",
       "      <td>34</td>\n",
       "      <td>41</td>\n",
       "      <td>hbr</td>\n",
       "      <td>True</td>\n",
       "      <td>S34_D41 hbr</td>\n",
       "    </tr>\n",
       "    <tr>\n",
       "      <th>55</th>\n",
       "      <td>LOW</td>\n",
       "      <td>3.0</td>\n",
       "      <td>2.328401e-14</td>\n",
       "      <td>0.000145</td>\n",
       "      <td>1.072896e-07</td>\n",
       "      <td>-24.715390</td>\n",
       "      <td>-0.000003</td>\n",
       "      <td>34</td>\n",
       "      <td>43</td>\n",
       "      <td>hbo</td>\n",
       "      <td>True</td>\n",
       "      <td>S34_D43 hbo</td>\n",
       "    </tr>\n",
       "    <tr>\n",
       "      <th>58</th>\n",
       "      <td>LOW</td>\n",
       "      <td>3.0</td>\n",
       "      <td>1.010884e-14</td>\n",
       "      <td>0.000286</td>\n",
       "      <td>7.069347e-08</td>\n",
       "      <td>19.694390</td>\n",
       "      <td>0.000001</td>\n",
       "      <td>34</td>\n",
       "      <td>43</td>\n",
       "      <td>hbr</td>\n",
       "      <td>True</td>\n",
       "      <td>S34_D43 hbr</td>\n",
       "    </tr>\n",
       "    <tr>\n",
       "      <th>79</th>\n",
       "      <td>LOW</td>\n",
       "      <td>3.0</td>\n",
       "      <td>1.642304e-14</td>\n",
       "      <td>0.000235</td>\n",
       "      <td>9.010635e-08</td>\n",
       "      <td>-21.038401</td>\n",
       "      <td>-0.000002</td>\n",
       "      <td>39</td>\n",
       "      <td>40</td>\n",
       "      <td>hbo</td>\n",
       "      <td>True</td>\n",
       "      <td>S39_D40 hbo</td>\n",
       "    </tr>\n",
       "    <tr>\n",
       "      <th>82</th>\n",
       "      <td>LOW</td>\n",
       "      <td>3.0</td>\n",
       "      <td>1.534897e-14</td>\n",
       "      <td>0.000295</td>\n",
       "      <td>8.711006e-08</td>\n",
       "      <td>-19.500200</td>\n",
       "      <td>-0.000002</td>\n",
       "      <td>39</td>\n",
       "      <td>40</td>\n",
       "      <td>hbr</td>\n",
       "      <td>True</td>\n",
       "      <td>S39_D40 hbr</td>\n",
       "    </tr>\n",
       "    <tr>\n",
       "      <th>84</th>\n",
       "      <td>HIGH</td>\n",
       "      <td>3.0</td>\n",
       "      <td>2.138816e-14</td>\n",
       "      <td>0.000288</td>\n",
       "      <td>1.193212e-07</td>\n",
       "      <td>-19.652521</td>\n",
       "      <td>-0.000002</td>\n",
       "      <td>39</td>\n",
       "      <td>43</td>\n",
       "      <td>hbo</td>\n",
       "      <td>True</td>\n",
       "      <td>S39_D43 hbo</td>\n",
       "    </tr>\n",
       "    <tr>\n",
       "      <th>85</th>\n",
       "      <td>LOW</td>\n",
       "      <td>3.0</td>\n",
       "      <td>2.138816e-14</td>\n",
       "      <td>0.000093</td>\n",
       "      <td>1.028289e-07</td>\n",
       "      <td>-28.650962</td>\n",
       "      <td>-0.000003</td>\n",
       "      <td>39</td>\n",
       "      <td>43</td>\n",
       "      <td>hbo</td>\n",
       "      <td>True</td>\n",
       "      <td>S39_D43 hbo</td>\n",
       "    </tr>\n",
       "    <tr>\n",
       "      <th>97</th>\n",
       "      <td>LOW</td>\n",
       "      <td>3.0</td>\n",
       "      <td>1.947960e-14</td>\n",
       "      <td>0.000104</td>\n",
       "      <td>9.813381e-08</td>\n",
       "      <td>-27.618208</td>\n",
       "      <td>-0.000003</td>\n",
       "      <td>40</td>\n",
       "      <td>33</td>\n",
       "      <td>hbo</td>\n",
       "      <td>True</td>\n",
       "      <td>S40_D33 hbo</td>\n",
       "    </tr>\n",
       "    <tr>\n",
       "      <th>112</th>\n",
       "      <td>LOW</td>\n",
       "      <td>3.0</td>\n",
       "      <td>1.539234e-14</td>\n",
       "      <td>0.000243</td>\n",
       "      <td>8.723304e-08</td>\n",
       "      <td>-20.806006</td>\n",
       "      <td>-0.000002</td>\n",
       "      <td>40</td>\n",
       "      <td>39</td>\n",
       "      <td>hbr</td>\n",
       "      <td>True</td>\n",
       "      <td>S40_D39 hbr</td>\n",
       "    </tr>\n",
       "    <tr>\n",
       "      <th>127</th>\n",
       "      <td>LOW</td>\n",
       "      <td>3.0</td>\n",
       "      <td>2.067800e-14</td>\n",
       "      <td>0.000121</td>\n",
       "      <td>1.011074e-07</td>\n",
       "      <td>-26.291800</td>\n",
       "      <td>-0.000003</td>\n",
       "      <td>40</td>\n",
       "      <td>44</td>\n",
       "      <td>hbo</td>\n",
       "      <td>True</td>\n",
       "      <td>S40_D44 hbo</td>\n",
       "    </tr>\n",
       "    <tr>\n",
       "      <th>133</th>\n",
       "      <td>LOW</td>\n",
       "      <td>3.0</td>\n",
       "      <td>3.273030e-14</td>\n",
       "      <td>0.000255</td>\n",
       "      <td>1.272048e-07</td>\n",
       "      <td>-20.454707</td>\n",
       "      <td>-0.000003</td>\n",
       "      <td>41</td>\n",
       "      <td>33</td>\n",
       "      <td>hbo</td>\n",
       "      <td>True</td>\n",
       "      <td>S41_D33 hbo</td>\n",
       "    </tr>\n",
       "    <tr>\n",
       "      <th>135</th>\n",
       "      <td>HIGH</td>\n",
       "      <td>3.0</td>\n",
       "      <td>1.204616e-14</td>\n",
       "      <td>0.000296</td>\n",
       "      <td>8.954787e-08</td>\n",
       "      <td>-19.475999</td>\n",
       "      <td>-0.000002</td>\n",
       "      <td>41</td>\n",
       "      <td>33</td>\n",
       "      <td>hbr</td>\n",
       "      <td>True</td>\n",
       "      <td>S41_D33 hbr</td>\n",
       "    </tr>\n",
       "    <tr>\n",
       "      <th>157</th>\n",
       "      <td>LOW</td>\n",
       "      <td>3.0</td>\n",
       "      <td>8.826122e-15</td>\n",
       "      <td>0.000203</td>\n",
       "      <td>6.605621e-08</td>\n",
       "      <td>-22.108951</td>\n",
       "      <td>-0.000001</td>\n",
       "      <td>43</td>\n",
       "      <td>33</td>\n",
       "      <td>hbo</td>\n",
       "      <td>True</td>\n",
       "      <td>S43_D33 hbo</td>\n",
       "    </tr>\n",
       "    <tr>\n",
       "      <th>168</th>\n",
       "      <td>HIGH</td>\n",
       "      <td>3.0</td>\n",
       "      <td>2.758715e-14</td>\n",
       "      <td>0.000232</td>\n",
       "      <td>1.355140e-07</td>\n",
       "      <td>-21.124936</td>\n",
       "      <td>-0.000003</td>\n",
       "      <td>43</td>\n",
       "      <td>39</td>\n",
       "      <td>hbo</td>\n",
       "      <td>True</td>\n",
       "      <td>S43_D39 hbo</td>\n",
       "    </tr>\n",
       "    <tr>\n",
       "      <th>169</th>\n",
       "      <td>LOW</td>\n",
       "      <td>3.0</td>\n",
       "      <td>2.758715e-14</td>\n",
       "      <td>0.000194</td>\n",
       "      <td>1.167837e-07</td>\n",
       "      <td>-22.437544</td>\n",
       "      <td>-0.000003</td>\n",
       "      <td>43</td>\n",
       "      <td>39</td>\n",
       "      <td>hbo</td>\n",
       "      <td>True</td>\n",
       "      <td>S43_D39 hbo</td>\n",
       "    </tr>\n",
       "    <tr>\n",
       "      <th>184</th>\n",
       "      <td>LOW</td>\n",
       "      <td>3.0</td>\n",
       "      <td>1.013413e-14</td>\n",
       "      <td>0.000099</td>\n",
       "      <td>7.078185e-08</td>\n",
       "      <td>-28.099343</td>\n",
       "      <td>-0.000002</td>\n",
       "      <td>44</td>\n",
       "      <td>33</td>\n",
       "      <td>hbr</td>\n",
       "      <td>True</td>\n",
       "      <td>S44_D33 hbr</td>\n",
       "    </tr>\n",
       "  </tbody>\n",
       "</table>\n",
       "</div>"
      ],
      "text/plain": [
       "variable Condition   df           mse   p_value            se          t  \\\n",
       "7              LOW  3.0  1.888109e-14  0.000144  9.661449e-08 -24.807393   \n",
       "19             LOW  3.0  9.030607e-15  0.000308  6.681703e-08 -19.201676   \n",
       "52             LOW  3.0  4.417735e-14  0.000177  1.477844e-07 -23.109937   \n",
       "55             LOW  3.0  2.328401e-14  0.000145  1.072896e-07 -24.715390   \n",
       "58             LOW  3.0  1.010884e-14  0.000286  7.069347e-08  19.694390   \n",
       "79             LOW  3.0  1.642304e-14  0.000235  9.010635e-08 -21.038401   \n",
       "82             LOW  3.0  1.534897e-14  0.000295  8.711006e-08 -19.500200   \n",
       "84            HIGH  3.0  2.138816e-14  0.000288  1.193212e-07 -19.652521   \n",
       "85             LOW  3.0  2.138816e-14  0.000093  1.028289e-07 -28.650962   \n",
       "97             LOW  3.0  1.947960e-14  0.000104  9.813381e-08 -27.618208   \n",
       "112            LOW  3.0  1.539234e-14  0.000243  8.723304e-08 -20.806006   \n",
       "127            LOW  3.0  2.067800e-14  0.000121  1.011074e-07 -26.291800   \n",
       "133            LOW  3.0  3.273030e-14  0.000255  1.272048e-07 -20.454707   \n",
       "135           HIGH  3.0  1.204616e-14  0.000296  8.954787e-08 -19.475999   \n",
       "157            LOW  3.0  8.826122e-15  0.000203  6.605621e-08 -22.108951   \n",
       "168           HIGH  3.0  2.758715e-14  0.000232  1.355140e-07 -21.124936   \n",
       "169            LOW  3.0  2.758715e-14  0.000194  1.167837e-07 -22.437544   \n",
       "184            LOW  3.0  1.013413e-14  0.000099  7.078185e-08 -28.099343   \n",
       "\n",
       "variable     theta Source Detector Chroma  Significant      ch_name  \n",
       "7        -0.000002     33       40    hbo         True  S33_D40 hbo  \n",
       "19       -0.000001     33       43    hbo         True  S33_D43 hbo  \n",
       "52       -0.000003     34       41    hbr         True  S34_D41 hbr  \n",
       "55       -0.000003     34       43    hbo         True  S34_D43 hbo  \n",
       "58        0.000001     34       43    hbr         True  S34_D43 hbr  \n",
       "79       -0.000002     39       40    hbo         True  S39_D40 hbo  \n",
       "82       -0.000002     39       40    hbr         True  S39_D40 hbr  \n",
       "84       -0.000002     39       43    hbo         True  S39_D43 hbo  \n",
       "85       -0.000003     39       43    hbo         True  S39_D43 hbo  \n",
       "97       -0.000003     40       33    hbo         True  S40_D33 hbo  \n",
       "112      -0.000002     40       39    hbr         True  S40_D39 hbr  \n",
       "127      -0.000003     40       44    hbo         True  S40_D44 hbo  \n",
       "133      -0.000003     41       33    hbo         True  S41_D33 hbo  \n",
       "135      -0.000002     41       33    hbr         True  S41_D33 hbr  \n",
       "157      -0.000001     43       33    hbo         True  S43_D33 hbo  \n",
       "168      -0.000003     43       39    hbo         True  S43_D39 hbo  \n",
       "169      -0.000003     43       39    hbo         True  S43_D39 hbo  \n",
       "184      -0.000002     44       33    hbr         True  S44_D33 hbr  "
      ]
     },
     "execution_count": 15,
     "metadata": {},
     "output_type": "execute_result"
    }
   ],
   "source": [
    "glm_results_significant = glm_results.loc[glm_results['Significant']]\n",
    "glm_results_significant[glm_results_significant['Condition'].isin(nirs.cases)]"
   ]
  },
  {
   "cell_type": "code",
   "execution_count": 16,
   "id": "4ea95f97-3bec-417e-bb52-3bb7f17a18cc",
   "metadata": {},
   "outputs": [],
   "source": [
    "significant_channels = list(glm_results_significant[\n",
    "    glm_results_significant['Condition'].isin(nirs.cases)\n",
    "    # & (((glm_results_significant['Chroma'] == 'hbo') & (glm_results_significant['theta'] < 0))\n",
    "    #  | ((glm_results_significant['Chroma'] == 'hbr') & (glm_results_significant['theta'] > 0)))\n",
    "]['ch_name'].unique())"
   ]
  },
  {
   "cell_type": "code",
   "execution_count": 17,
   "id": "aa66aebc-8313-4d9c-a12d-175dfddf69a0",
   "metadata": {},
   "outputs": [
    {
     "data": {
      "image/png": "[encoded data removed]",
      "text/plain": [
       "<Figure size 1800x600 with 8 Axes>"
      ]
     },
     "metadata": {},
     "output_type": "display_data"
    }
   ],
   "source": [
    "nirs.plot_average_heatmap(picks=significant_channels + utils.find_ch_pairs(nirs.raw.ch_names, significant_channels),\n",
    "                          clim={'hbo': [-1, 1], 'hbr': [-1, 1]}).tight_layout()"
   ]
  },
  {
   "cell_type": "code",
   "execution_count": 18,
   "id": "6f2714eb-4140-4d8a-a212-c8b44736f1a7",
   "metadata": {},
   "outputs": [
    {
     "data": {
      "text/plain": [
       "<AxesSubplot: xlabel='Condition', ylabel='Theta'>"
      ]
     },
     "execution_count": 18,
     "metadata": {},
     "output_type": "execute_result"
    },
    {
     "data": {
      "image/png": "[encoded data removed]",
      "text/plain": [
       "<Figure size 1000x500 with 1 Axes>"
      ]
     },
     "metadata": {},
     "output_type": "display_data"
    }
   ],
   "source": [
    "# fig, axs = plt.subplots(int(len(significant_channels)/5), 5, figsize=(20, 40))\n",
    "\n",
    "# for ch, ax in zip(significant_channels, axs.ravel()):\n",
    "#     glm_est.copy().pick(ch).scatter(axes=ax)\n",
    "#     ax.set_title(ch)\n",
    "\n",
    "# plt.tight_layout()\n",
    "\n",
    "glm_est.copy().pick(significant_channels).scatter()"
   ]
  },
  {
   "cell_type": "raw",
   "id": "eda207d7-26d8-40ca-b3cc-2dd13a067a27",
   "metadata": {},
   "source": [
    "nirs.plot_average_waveform(picks=significant_channels, cases=nirs.cases, title_format_hex=False, separate_cases=True, sharey=True).tight_layout()"
   ]
  },
  {
   "cell_type": "raw",
   "id": "07e4162b-ba26-457e-af66-a7693072284f",
   "metadata": {
    "tags": []
   },
   "source": [
    "mne.viz.plot_epochs_image(nirs.epochs, picks=significant_channels, sigma=.5, vmin=-5000, vmax=5000, show=True)"
   ]
  },
  {
   "cell_type": "markdown",
   "id": "d12490e2-f23c-4a33-899d-076e5b89e982",
   "metadata": {
    "jp-MarkdownHeadingCollapsed": true,
    "tags": []
   },
   "source": [
    "##### `Contrast Analysis`\n",
    "\n",
    "> Compute and visualize constrasts between cases"
   ]
  },
  {
   "cell_type": "raw",
   "id": "9000123d-1067-4dc1-902e-ff973562a788",
   "metadata": {},
   "source": [
    "contrast_matrix = np.eye(design_matrix.shape[1])\n",
    "basic_conts = dict([(column, contrast_matrix[i]) for i, column in enumerate(design_matrix.columns)])"
   ]
  },
  {
   "cell_type": "raw",
   "id": "034bac9f-702f-41f6-bd11-4ebc87dbc626",
   "metadata": {},
   "source": [
    "contrast_est = glm_est.compute_contrast(basic_conts[nirs.case[1]] - basic_conts[nirs.case[0]])\n",
    "contrast_results = contrast_est.to_dataframe()"
   ]
  },
  {
   "cell_type": "raw",
   "id": "31b78f5d-47c6-40ef-b2de-41c0970f3de5",
   "metadata": {},
   "source": [
    "contrast_results['Significant'] = st.multitest.multipletests(contrast_results['p_value'])[0]"
   ]
  },
  {
   "cell_type": "raw",
   "id": "94e8ce1b-1229-4aeb-bece-2715769b11d3",
   "metadata": {},
   "source": [
    "contrast_results_significant = contrast_results[contrast_results['Significant']]\n",
    "contrast_results_significant[contrast_results_significant['Condition'].isin(nirs.cases)]"
   ]
  },
  {
   "cell_type": "raw",
   "id": "25576d0c-32ca-4a38-90d2-6f2ee9ba24db",
   "metadata": {},
   "source": [
    "significant_channels_contrast = list(contrast_results_significant['ch_name'].unique())"
   ]
  },
  {
   "cell_type": "raw",
   "id": "cecd1eea-36b2-4852-866a-c49ad89e3fb0",
   "metadata": {},
   "source": [
    "contrast.scatter()"
   ]
  },
  {
   "cell_type": "markdown",
   "id": "c0d2d4d5-844f-43e0-a59b-3b3d3851e808",
   "metadata": {
    "jp-MarkdownHeadingCollapsed": true,
    "tags": []
   },
   "source": [
    "##### `Plotting for GLM Analysis`"
   ]
  },
  {
   "cell_type": "raw",
   "id": "2cdbcef1-c8e5-42e3-9688-e2ef1d01aa6f",
   "metadata": {},
   "source": [
    "# Plot design matrix\n",
    "\n",
    "nilearn.plotting.plot_design_matrix(design_matrix)"
   ]
  },
  {
   "cell_type": "raw",
   "id": "73333113-a1e1-46fb-86ae-6a61e5c417f1",
   "metadata": {},
   "source": [
    "# Visualize regression coefficients for all channels\n",
    "\n",
    "glm_est.scatter();"
   ]
  },
  {
   "cell_type": "raw",
   "id": "f0be2d36-e70f-4d5b-965b-b4e20ddf9c98",
   "metadata": {},
   "source": [
    "# View topographic distibution of activities\n",
    "\n",
    "glm_est.plot_topo(conditions=nirs.cases);"
   ]
  },
  {
   "cell_type": "raw",
   "id": "b0da82dd-e2c5-418d-b9d1-5486fa58323c",
   "metadata": {},
   "source": [
    "# Compute and visualize constrasts between cases\n",
    "\n",
    "contrast_matrix = np.eye(design_matrix.shape[1])\n",
    "basic_conts = dict([(column, contrast_matrix[i]) for i, column in enumerate(design_matrix.columns)])\n",
    "contrast_LvR = basic_conts['2'] - basic_conts['0']\n",
    "\n",
    "contrast = glm_est.compute_contrast(contrast_LvR)\n",
    "contrast.plot_topo();"
   ]
  },
  {
   "cell_type": "raw",
   "id": "83afe472-eb99-4771-885a-2f5f0b7a0be4",
   "metadata": {},
   "source": [
    "# Summarize data (compute TP and FP rates)\n",
    "\n",
    "(glm_est.to_dataframe()\n",
    " .query(\"Condition in nirs.cases\")\n",
    " .drop(['df', 'mse', 'p_value', 't'], axis=1)\n",
    " .groupby(['Condition', 'Chroma', 'ch_name'])\n",
    " .agg(['mean']))"
   ]
  },
  {
   "cell_type": "markdown",
   "id": "464f86f1-0b0b-4f08-9d93-83e50a9d69d5",
   "metadata": {
    "tags": []
   },
   "source": [
    "##### `Clustering`\n",
    "\n",
    "> Relevant features  \n",
    ">> For intervals of 1s in the epochs.  \n",
    ">> - Area under the curve  \n",
    ">> - Average slope  \n",
    ">> - Maximum amplitude"
   ]
  },
  {
   "cell_type": "raw",
   "id": "06737bb7-1c86-4654-9585-e68411eb9929",
   "metadata": {},
   "source": [
    "clusters = sc.cluster.hierarchy.linkage(nirs.epochs.get_data()[:, 0, :], method='ward', metric=\"euclidean\")"
   ]
  },
  {
   "cell_type": "raw",
   "id": "b308f2ed-0178-43e7-b5e7-5d26731a0c44",
   "metadata": {},
   "source": [
    "sc.cluster.hierarchy.dendrogram(Z=clusters)\n",
    "plt.show()"
   ]
  },
  {
   "cell_type": "code",
   "execution_count": null,
   "id": "fd78eae2-754d-44b0-843c-881a0e941fe6",
   "metadata": {},
   "outputs": [],
   "source": []
  }
 ],
 "metadata": {
  "kernelspec": {
   "display_name": "Python 3 (ipykernel)",
   "language": "python",
   "name": "python3"
  },
  "language_info": {
   "codemirror_mode": {
    "name": "ipython",
    "version": 3
   },
   "file_extension": ".py",
   "mimetype": "text/x-python",
   "name": "python",
   "nbconvert_exporter": "python",
   "pygments_lexer": "ipython3",
   "version": "3.11.4"
  },
  "vscode": {
   "interpreter": {
    "hash": "0f589f7137c7f25103dd6a6e330ec0c0772eb7f22b3e4ba8c4980947ae7bbe74"
   }
  }
 },
 "nbformat": 4,
 "nbformat_minor": 5
}
