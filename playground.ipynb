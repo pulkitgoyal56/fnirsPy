{
 "cells": [
  {
   "cell_type": "markdown",
   "id": "e58e5d10-a56c-44be-91c8-f0263cb93cc2",
   "metadata": {
    "jp-MarkdownHeadingCollapsed": true,
    "tags": []
   },
   "source": [
    "# Imports"
   ]
  },
  {
   "cell_type": "code",
   "execution_count": 1,
   "id": "22f15b72-d26f-4e33-a01e-6535d2a20537",
   "metadata": {},
   "outputs": [],
   "source": [
    "# File R/W\n",
    "import os\n",
    "\n",
    "# Additional Inbuilt Utilities\n",
    "import itertools\n",
    "import functools\n",
    "\n",
    "# Regex\n",
    "import re\n",
    "\n",
    "# Array\n",
    "import numpy as np\n",
    "\n",
    "# Table\n",
    "import pandas as pd\n",
    "\n",
    "# Advanced Computations\n",
    "import scipy as sc\n",
    "\n",
    "# Statistics\n",
    "import statsmodels.api as sm\n",
    "\n",
    "# Neurophysiological Data Analysis\n",
    "import mne\n",
    "import mne_nirs # esp. for fNIRS\n",
    "\n",
    "# Neuroimaging Statistical Tools\n",
    "import nilearn\n",
    "import nilearn.plotting\n",
    "\n",
    "# Plotting\n",
    "import matplotlib.pyplot as plt\n",
    "\n",
    "# Vistual Display\n",
    "from pyvirtualdisplay import Display"
   ]
  },
  {
   "cell_type": "code",
   "execution_count": 2,
   "id": "8b8c124c-8401-4761-8854-854099ba2352",
   "metadata": {},
   "outputs": [],
   "source": [
    "# Autoreload Custom Modules\n",
    "%load_ext autoreload\n",
    "%autoreload 1\n",
    "\n",
    "# Custom Class\n",
    "%aimport nirs\n",
    "NIRS = nirs.NIRS\n",
    "\n",
    "# Custom Settings\n",
    "%aimport constants\n",
    "\n",
    "# Custom Functions\n",
    "%aimport utils\n",
    "\n",
    "# Modified MBLL\n",
    "%aimport mbll"
   ]
  },
  {
   "cell_type": "markdown",
   "id": "fee37a86-6ff6-4f58-abcf-98002ad5cc6c",
   "metadata": {
    "jp-MarkdownHeadingCollapsed": true,
    "tags": []
   },
   "source": [
    "## Config"
   ]
  },
  {
   "cell_type": "code",
   "execution_count": 3,
   "id": "f7dd40fa-b04e-4036-ab8d-287b0e65ffdf",
   "metadata": {},
   "outputs": [],
   "source": [
    "mne.set_log_level('WARNING')"
   ]
  },
  {
   "cell_type": "code",
   "execution_count": 4,
   "id": "625b59f2-363a-457f-9264-8d357a1426b5",
   "metadata": {},
   "outputs": [],
   "source": [
    "# Set plotting backend for MNE\n",
    "mne.viz.set_browser_backend('matplotlib') # qt, matplotlib\n",
    "mne.viz.set_3d_backend('notebook') # pyvistaqt, notebook"
   ]
  },
  {
   "cell_type": "raw",
   "id": "44bfc7c6-f20a-48df-9807-aa812417c60a",
   "metadata": {},
   "source": [
    "# Set recommended (by MNE) plotting backend\n",
    "# %matplotlib qt"
   ]
  },
  {
   "cell_type": "raw",
   "id": "474ba645-f9c6-44d4-b295-5431724c4128",
   "metadata": {},
   "source": [
    "# Setup and start xvfb virtual display\n",
    "# disp = Display()\n",
    "# disp.start()"
   ]
  },
  {
   "cell_type": "markdown",
   "id": "0f746fc3-9fcb-4f87-a09a-85bd028c5d6e",
   "metadata": {},
   "source": [
    "# MAIN"
   ]
  },
  {
   "cell_type": "code",
   "execution_count": 5,
   "id": "d81f277a-3ca7-4cb5-9764-6d783f7f8a5b",
   "metadata": {},
   "outputs": [],
   "source": [
    "# Instantiate NIRS() and read data\n",
    "nirs = NIRS().read(1, 1, 3, augment=True, transform=False, correction_factor='default')"
   ]
  },
  {
   "cell_type": "code",
   "execution_count": 6,
   "id": "dc85b6bd-c94d-452e-bce3-d0615df3d95c",
   "metadata": {},
   "outputs": [],
   "source": [
    "# Pre-process the data using the default pipeline, with dpf/ppf as argument (default `constants.PPF`)\n",
    "# Output is a dictionary of intermediate mne.Raw instances\n",
    "# Stages: CW     (raw signal)\n",
    "#         CWx    (backlight removed raw signal)\n",
    "#         OD     (optical density)\n",
    "#         TDD    (motion artifact removal)\n",
    "#         SSR    (short-channel regression)\n",
    "#         HB     (chromophore/haemoglobin)\n",
    "#         FL     (bandpass filtering)\n",
    "#         NCE    (negative correlation improvement)\n",
    "savepoints = nirs.default_pipeline(remove_backlight=False,\n",
    "                                   tddr=True,\n",
    "                                   short_channel_regression=False,\n",
    "                                   bandpass=False,\n",
    "                                   negative_correlation_enhancement=False)"
   ]
  },
  {
   "cell_type": "raw",
   "id": "b2fd081c-d623-4e15-a7b4-6252e48c8471",
   "metadata": {},
   "source": [
    "nirs.plot_average_heatmap(clim={'hbo': [-10, 10], 'hbr': [-10, 10]}).tight_layout()"
   ]
  },
  {
   "cell_type": "raw",
   "id": "8cf8d0d0-7c39-40b8-86df-53cef2a170bc",
   "metadata": {},
   "source": [
    "nirs.plot_average_waveform().tight_layout()"
   ]
  },
  {
   "cell_type": "raw",
   "id": "846045dd-fb8b-4726-b913-f4644579ed45",
   "metadata": {},
   "source": [
    "mne.viz.plot_compare_evokeds(nirs.evoked_dict, combine='mean', ci=0.95, axes=plt.figure(figsize=(16, 4)).add_subplot(111),\n",
    "                             colors={'0': 'k', '2': 'r', '3':'g', '4':'b', '5':'y'},\n",
    "                             linestyles={'hbo': '-',\n",
    "                                         'hbr': ':'},\n",
    "                             ylim={'hbo': [-5, 5]},\n",
    "                             title='Signal Averages Across Trials and Channels for Number of Targets');"
   ]
  },
  {
   "cell_type": "raw",
   "id": "5894cbc3-2c4f-4e7d-9ab3-ea0d47f5b151",
   "metadata": {},
   "source": [
    "nirs.epochs['0'].average(picks='hbo').plot_joint(times=np.arange(nirs.T_EPOCH_START, nirs.T_EPOCH_END, 3), topomap_args={'extrapolate': 'local'});"
   ]
  },
  {
   "cell_type": "markdown",
   "id": "3c3889b8-ec18-4bf2-b7d2-5007139a80ce",
   "metadata": {},
   "source": [
    "---"
   ]
  },
  {
   "cell_type": "raw",
   "id": "5db9bcf0-7e1c-4325-bd0e-805edde1945c",
   "metadata": {},
   "source": [
    "print(1/nirs.DUR['rec'])\n",
    "print(nirs.raw.compute_psd().freqs[1])"
   ]
  },
  {
   "cell_type": "markdown",
   "id": "70162412-83a5-4a4e-9628-862176872654",
   "metadata": {},
   "source": [
    "---"
   ]
  },
  {
   "cell_type": "code",
   "execution_count": 7,
   "id": "e479c93a-493e-4f64-89f4-6f2885e25929",
   "metadata": {},
   "outputs": [],
   "source": [
    "raw_intensity = savepoints['CW']\n",
    "raw_haemo = nirs.raw.copy().pick('hbo')"
   ]
  },
  {
   "cell_type": "code",
   "execution_count": 8,
   "id": "8a54a6a3-9549-4d12-8ec6-e6102e12daaa",
   "metadata": {},
   "outputs": [],
   "source": [
    "design_matrix = mne_nirs.experimental_design.make_first_level_design_matrix(raw_haemo,\n",
    "                                                                            hrf_model='spm', # 'spm + derivative + dispersion'\n",
    "                                                                            # drift_model='polynomial', # 'cosine'\n",
    "                                                                            # drift_order=3,\n",
    "                                                                            # high_pass=1/2/(nirs.DUR['trial']),\n",
    "                                                                            stim_dur=nirs.DUR['motion'])\n",
    "\n",
    "design_matrix['mean_ss_hbo'] = np.mean(nirs.raw_ss.copy().pick('hbo').get_data(), axis=0)\n",
    "# design_matrix['mean_ss_hbr'] = np.mean(nirs.raw_ss.copy().pick('hbr').get_data(), axis=0)"
   ]
  },
  {
   "cell_type": "code",
   "execution_count": 9,
   "id": "de7dc3f0-7eba-4f66-93b7-438fb2aaed02",
   "metadata": {},
   "outputs": [],
   "source": [
    "glm_est = mne_nirs.statistics.run_glm(raw_haemo, design_matrix)"
   ]
  },
  {
   "cell_type": "markdown",
   "id": "569f34b5-38d5-4cec-a8d4-770834897ea5",
   "metadata": {},
   "source": [
    "---"
   ]
  },
  {
   "cell_type": "raw",
   "id": "3c1f57cb-28ad-4034-8c76-ecfb6701d1ea",
   "metadata": {},
   "source": [
    "# # Visualize design matrix in heatmap\n",
    "\n",
    "# fig, ax1 = plt.subplots(figsize=(10, 6), nrows=1, ncols=1)\n",
    "# fig = nilearn.plotting.plot_design_matrix(design_matrix, ax=ax1)"
   ]
  },
  {
   "cell_type": "raw",
   "id": "183fe05d-ff1c-429b-ac51-6671264fff74",
   "metadata": {},
   "source": [
    "# Visualize expected HRF overlayed on the boxcar plot of events\n",
    "\n",
    "s = mne_nirs.experimental_design.create_boxcar(raw_intensity, stim_dur=nirs.DUR['motion'])\n",
    "plt.plot(raw_intensity.times, s[:, 0])\n",
    "plt.plot(design_matrix['0'])\n",
    "plt.xlim(0, 500)\n",
    "plt.legend(['Stimulus', 'Expected Response'])\n",
    "plt.xlabel('Time (s)')\n",
    "plt.ylabel('Amplitude')"
   ]
  },
  {
   "cell_type": "code",
   "execution_count": 10,
   "id": "7233dcc7-225a-4873-a670-a74ad77d6127",
   "metadata": {},
   "outputs": [
    {
     "data": {
      "text/plain": [
       "<AxesSubplot: xlabel='Condition', ylabel='Theta'>"
      ]
     },
     "execution_count": 10,
     "metadata": {},
     "output_type": "execute_result"
    },
    {
     "data": {
      "image/png": "[encoded data removed]",
      "text/plain": [
       "<Figure size 1000x500 with 1 Axes>"
      ]
     },
     "metadata": {},
     "output_type": "display_data"
    }
   ],
   "source": [
    "# Visualize regression coefficients for all channels\n",
    "\n",
    "glm_est.scatter()"
   ]
  },
  {
   "cell_type": "raw",
   "id": "f0be2d36-e70f-4d5b-965b-b4e20ddf9c98",
   "metadata": {},
   "source": [
    "# View topographic distibution of activities\n",
    "\n",
    "# glm_est.plot_topo(conditions=nirs.cases);"
   ]
  },
  {
   "cell_type": "raw",
   "id": "f6313057-b3d4-43fb-a0a4-ecbc3a88870e",
   "metadata": {},
   "source": [
    "# Compute and visualize constrasts between cases\n",
    "\n",
    "contrast_matrix = np.eye(design_matrix.shape[1])\n",
    "basic_conts = dict([(column, contrast_matrix[i]) for i, column in enumerate(design_matrix.columns)])\n",
    "contrast_LvR = basic_conts['2'] - basic_conts['0']\n",
    "\n",
    "contrast = glm_est.compute_contrast(contrast_LvR)\n",
    "contrast.plot_topo();"
   ]
  },
  {
   "cell_type": "raw",
   "id": "5d9d733c-3de5-4b98-8c0f-37e349f4fcc7",
   "metadata": {},
   "source": [
    "# Summarize data (compute TP and FP rates)\n",
    "\n",
    "(glm_est.to_dataframe()\n",
    " .query('Condition in ['0', '2']')\n",
    " .drop(['df', 'mse', 'p_value', 't'], axis=1)\n",
    " .groupby(['Condition', 'Chroma', 'ch_name'])\n",
    " .agg(['mean'])\n",
    " )"
   ]
  },
  {
   "cell_type": "code",
   "execution_count": null,
   "id": "89d6c67f-7e31-4580-9953-2be9b5d90693",
   "metadata": {},
   "outputs": [],
   "source": []
  }
 ],
 "metadata": {
  "kernelspec": {
   "display_name": "Python 3 (ipykernel)",
   "language": "python",
   "name": "python3"
  },
  "language_info": {
   "codemirror_mode": {
    "name": "ipython",
    "version": 3
   },
   "file_extension": ".py",
   "mimetype": "text/x-python",
   "name": "python",
   "nbconvert_exporter": "python",
   "pygments_lexer": "ipython3",
   "version": "3.10.8"
  },
  "vscode": {
   "interpreter": {
    "hash": "0f589f7137c7f25103dd6a6e330ec0c0772eb7f22b3e4ba8c4980947ae7bbe74"
   }
  }
 },
 "nbformat": 4,
 "nbformat_minor": 5
}
