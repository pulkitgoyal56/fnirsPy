{
 "cells": [
  {
   "cell_type": "code",
   "execution_count": 1,
   "id": "5d61471b-842f-4f59-b209-13f297967625",
   "metadata": {},
   "outputs": [],
   "source": [
    "import os\n",
    "import itertools\n",
    "import functools\n",
    "import tomli\n",
    "import pathlib\n",
    "import glob\n",
    "import re\n",
    "import numpy as np\n",
    "import pandas as pd\n",
    "import statsmodels.api as sm\n",
    "import matplotlib.pyplot as plt\n",
    "import scipy as sc\n",
    "import mne\n",
    "import mne_nirs"
   ]
  },
  {
   "cell_type": "code",
   "execution_count": 2,
   "id": "1dea03fa-cd81-47ed-be86-c2cd7a292809",
   "metadata": {},
   "outputs": [],
   "source": [
    "import utils\n",
    "import constants\n",
    "from nirs import NIRS"
   ]
  },
  {
   "cell_type": "code",
   "execution_count": 3,
   "id": "342ca28f-c623-4fed-b5ee-0a331c57272e",
   "metadata": {},
   "outputs": [
    {
     "name": "stdout",
     "output_type": "stream",
     "text": [
      "Creating RawArray with float64 data, n_channels=36, n_times=12333\n",
      "    Range : 0 ... 12332 =      0.000 ...   891.896 secs\n",
      "Ready.\n"
     ]
    }
   ],
   "source": [
    "NIRS().read(1, 1, 3)"
   ]
  }
 ],
 "metadata": {
  "kernelspec": {
   "display_name": "Python 3 (ipykernel)",
   "language": "python",
   "name": "python3"
  },
  "language_info": {
   "codemirror_mode": {
    "name": "ipython",
    "version": 3
   },
   "file_extension": ".py",
   "mimetype": "text/x-python",
   "name": "python",
   "nbconvert_exporter": "python",
   "pygments_lexer": "ipython3",
   "version": "3.10.8"
  }
 },
 "nbformat": 4,
 "nbformat_minor": 5
}
