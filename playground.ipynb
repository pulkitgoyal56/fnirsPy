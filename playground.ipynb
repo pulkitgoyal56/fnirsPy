{
 "cells": [
  {
   "cell_type": "markdown",
   "id": "e58e5d10-a56c-44be-91c8-f0263cb93cc2",
   "metadata": {
    "jp-MarkdownHeadingCollapsed": true,
    "tags": []
   },
   "source": [
    "# Imports"
   ]
  },
  {
   "cell_type": "code",
   "execution_count": 1,
   "id": "22f15b72-d26f-4e33-a01e-6535d2a20537",
   "metadata": {},
   "outputs": [],
   "source": [
    "# Logging and warnings\n",
    "import logging\n",
    "\n",
    "# File R/W\n",
    "import os\n",
    "\n",
    "# Additional Inbuilt Utilities\n",
    "import itertools\n",
    "import functools\n",
    "\n",
    "# Regex\n",
    "import re\n",
    "\n",
    "# Array\n",
    "import numpy as np\n",
    "\n",
    "# Table\n",
    "import pandas as pd\n",
    "\n",
    "# Advanced Computations\n",
    "import scipy as sc\n",
    "\n",
    "# Statistics\n",
    "import statsmodels.api as sm\n",
    "import statsmodels.stats as st\n",
    "\n",
    "# Neurophysiological Data Analysis\n",
    "import mne\n",
    "import mne_nirs # esp. for fNIRS\n",
    "\n",
    "# Neuroimaging Statistical Tools\n",
    "import nilearn\n",
    "import nilearn.plotting\n",
    "\n",
    "# Plotting\n",
    "import matplotlib.pyplot as plt\n",
    "\n",
    "# Vistual Display\n",
    "from pyvirtualdisplay import Display"
   ]
  },
  {
   "cell_type": "code",
   "execution_count": 2,
   "id": "8b8c124c-8401-4761-8854-854099ba2352",
   "metadata": {
    "tags": []
   },
   "outputs": [],
   "source": [
    "# Autoreload Custom Modules\n",
    "%load_ext autoreload\n",
    "%autoreload 1\n",
    "\n",
    "# Custom Class\n",
    "%aimport nirs\n",
    "NIRS = nirs.NIRS\n",
    "\n",
    "# Custom Settings\n",
    "%aimport constants\n",
    "\n",
    "# Custom Functions\n",
    "%aimport utils\n",
    "\n",
    "# Modified MBLL\n",
    "%aimport mbll"
   ]
  },
  {
   "cell_type": "markdown",
   "id": "fee37a86-6ff6-4f58-abcf-98002ad5cc6c",
   "metadata": {
    "jp-MarkdownHeadingCollapsed": true,
    "tags": []
   },
   "source": [
    "## Config"
   ]
  },
  {
   "cell_type": "code",
   "execution_count": 3,
   "id": "83055f20-573e-46f6-9747-d5011a4f6a65",
   "metadata": {},
   "outputs": [],
   "source": [
    "# Set logging level for custom modules\n",
    "logging.getLogger().setLevel(logging.INFO)"
   ]
  },
  {
   "cell_type": "code",
   "execution_count": 4,
   "id": "635e9279-25b2-4f38-9129-e83aa38f4ed0",
   "metadata": {},
   "outputs": [],
   "source": [
    "# Set logging level for MNE\n",
    "mne.set_log_level('WARNING')"
   ]
  },
  {
   "cell_type": "code",
   "execution_count": 5,
   "id": "625b59f2-363a-457f-9264-8d357a1426b5",
   "metadata": {},
   "outputs": [],
   "source": [
    "# Set plotting backend for MNE\n",
    "mne.viz.set_browser_backend('matplotlib') # qt, matplotlib\n",
    "mne.viz.set_3d_backend('notebook') # pyvistaqt, notebook"
   ]
  },
  {
   "cell_type": "raw",
   "id": "44bfc7c6-f20a-48df-9807-aa812417c60a",
   "metadata": {},
   "source": [
    "# # Set recommended (by MNE) plotting backend\n",
    "# %matplotlib qt"
   ]
  },
  {
   "cell_type": "raw",
   "id": "474ba645-f9c6-44d4-b295-5431724c4128",
   "metadata": {},
   "source": [
    "# # Setup and start xvfb virtual display\n",
    "# disp = Display()\n",
    "# disp.start()"
   ]
  },
  {
   "cell_type": "markdown",
   "id": "0f746fc3-9fcb-4f87-a09a-85bd028c5d6e",
   "metadata": {
    "tags": []
   },
   "source": [
    "# MAIN"
   ]
  },
  {
   "cell_type": "markdown",
   "id": "583dfc5c-b818-4b14-aa28-f09febbd6f1f",
   "metadata": {
    "jp-MarkdownHeadingCollapsed": true,
    "tags": []
   },
   "source": [
    "##### `Pre-Processing`"
   ]
  },
  {
   "cell_type": "code",
   "execution_count": 6,
   "id": "d81f277a-3ca7-4cb5-9764-6d783f7f8a5b",
   "metadata": {},
   "outputs": [],
   "source": [
    "# Instantiate NIRS() and read data\n",
    "nirs = NIRS(project='Working-Memory') # Working-Memory # Multi-object Tracking\n",
    "nirs.read(1, 1, 1, augment=False, transform=False, correction_factor=0.779);"
   ]
  },
  {
   "cell_type": "code",
   "execution_count": 7,
   "id": "bc33504c-735a-4aff-a021-630409fe0297",
   "metadata": {
    "tags": []
   },
   "outputs": [
    {
     "name": "stderr",
     "output_type": "stream",
     "text": [
      "/home/pulkitgoyal56/fNIRS-attentional-load/nirs.py:608: RuntimeWarning: Negative intensities encountered. Setting to abs(x)\n",
      "  return func(self.raw, *args, **kwargs)\n",
      "WARNING:root:Could not fit Gaussian curve for channel S40_D33 774. Discarding...\n"
     ]
    }
   ],
   "source": [
    "# Pre-process the data using the default pipeline.\n",
    "# Output is a dictionary of intermediate mne.Raw instances.\n",
    "# Stages: CW     (raw signal)\n",
    "#         CWx    (backlight removed raw signal)\n",
    "#         OD     (optical density)\n",
    "#         TDDR   (motion artifact removal)\n",
    "#         AP     (autopick channels)\n",
    "#         SSR    (short-channel regression)\n",
    "#         HB     (chromophore/haemoglobin)\n",
    "#         LS     (pick long channels, after saving short channels)\n",
    "#         FL     (bandpass filtering)\n",
    "#         NCE    (negative correlation improvement)\n",
    "savepoints = nirs.default_pipeline(remove_backlight=True,\n",
    "                                   tddr=True,\n",
    "                                   scalp_coupling_index=True,\n",
    "                                   autopick_channels=True,\n",
    "                                   short_channel_regression=True,\n",
    "                                   bandpass=True,\n",
    "                                   negative_correlation_enhancement=False,\n",
    "                                   threshold_heart_rate=0.5,\n",
    "                                   show_failed=False,\n",
    "                                   l_trans_bandwidth=0.007,\n",
    "                                   h_trans_bandwidth=0.007)"
   ]
  },
  {
   "cell_type": "code",
   "execution_count": 8,
   "id": "10a37a3b-354a-4269-b32b-774a00b31b84",
   "metadata": {
    "tags": []
   },
   "outputs": [],
   "source": [
    "nirs.get_epochs(tmin=-(nirs.DUR['wait']),\n",
    "                tmax=(nirs.DUR['motion'] + nirs.DUR['probe'] + nirs.DUR['feedb']),\n",
    "                baseline=(-0.1, 0));\n",
    "\n",
    "# Drop epochs where response was not correct\n",
    "# nirs.epochs.drop(nirs.mat['id_correct'] != 1);\n",
    "\n",
    "nirs.block_average();"
   ]
  },
  {
   "cell_type": "raw",
   "id": "c38728d2-8b77-4ae8-96a7-00087fe4ba3f",
   "metadata": {},
   "source": [
    "nirs.raw.plot_sensors(ch_type='hbo', show_names=utils.filter_channels('S(\\d+)_D(\\d+) (.+)', lambda s, d, t: s > d and t == 'hbo', nirs.raw.ch_names)[0]);"
   ]
  },
  {
   "cell_type": "raw",
   "id": "b67d8c18-4c44-4e4e-8e62-d5a5376f3dbc",
   "metadata": {},
   "source": [
    "mne.viz.plot_epochs_image(nirs.epochs, picks=nirs.goof_ch_names, sigma=.5, vmin=-10, vmax=10, show=True)"
   ]
  },
  {
   "cell_type": "raw",
   "id": "2c2ea2db-2d9a-43bb-a24a-323e88473f04",
   "metadata": {},
   "source": [
    "mne.viz.plot_compare_evokeds(nirs.evoked_dict, picks=nirs.good_ch_names[-1], combine='mean', ci=0.95, axes=plt.figure(figsize=(16, 4)).add_subplot(111),\n",
    "                             colors={'0': 'k', '2': 'r', '3':'g', '4':'b', '5':'y'},\n",
    "                             linestyles={'hbo': '-',\n",
    "                                         'hbr': ':'},\n",
    "                             ylim={'hbo': [-5, 5]},\n",
    "                             title='Signal Averages Across Trials and Channels for Number of Targets');"
   ]
  },
  {
   "cell_type": "raw",
   "id": "27b6ab5b-bcf4-4646-8235-27ea13337965",
   "metadata": {},
   "source": [
    "nirs.epochs['0'].average(picks='hbo').plot_joint(times=np.arange(nirs.T_EPOCH_START, nirs.T_EPOCH_END, 3), topomap_args={'extrapolate': 'local'});"
   ]
  },
  {
   "cell_type": "markdown",
   "id": "0d44ad10-da17-4322-9518-b890037d261f",
   "metadata": {
    "jp-MarkdownHeadingCollapsed": true,
    "tags": []
   },
   "source": [
    "##### `GLM Analysis`"
   ]
  },
  {
   "cell_type": "code",
   "execution_count": 9,
   "id": "ee9a4532-e8bd-440e-8573-4a9d2061aafe",
   "metadata": {},
   "outputs": [],
   "source": [
    "# raw_intensity = savepoints['CW']\n",
    "raw_haemo = nirs.raw.copy().pick(nirs.good_ch_names)"
   ]
  },
  {
   "cell_type": "code",
   "execution_count": 10,
   "id": "32db1336-1692-4cc8-85a0-495d50361322",
   "metadata": {
    "tags": []
   },
   "outputs": [],
   "source": [
    "design_matrix = mne_nirs.experimental_design.make_first_level_design_matrix(raw_haemo,\n",
    "                                                                            hrf_model= 'spm', # 'spm + derivative + dispersion',\n",
    "                                                                            drift_model=None, # 'cosine', 'polynomial'\n",
    "                                                                            # drift_order=3,\n",
    "                                                                            # high_pass=1/2/(nirs.DUR['trial']),\n",
    "                                                                            stim_dur=nirs.DUR['motion'])\n",
    "\n",
    "# design_matrix['mean_ss_hbo'] = np.mean(nirs.raw_ss.copy().pick('hbo').get_data(), axis=0)\n",
    "# design_matrix['mean_ss_hbr'] = np.mean(nirs.raw_ss.copy().pick('hbr').get_data(), axis=0)"
   ]
  },
  {
   "cell_type": "code",
   "execution_count": 11,
   "id": "0ce1ae9b-1ca2-4f9c-9a90-f8d5d05607a4",
   "metadata": {},
   "outputs": [],
   "source": [
    "glm_est = mne_nirs.statistics.run_glm(raw_haemo, design_matrix)\n",
    "glm_results = glm_est.to_dataframe()"
   ]
  },
  {
   "cell_type": "raw",
   "id": "5986583a-36d2-4c3d-88ec-9e8e66a8c1c3",
   "metadata": {},
   "source": [
    "glm_results['Significant'] = st.multitest.multipletests(glm_results['p_value'])[0]"
   ]
  },
  {
   "cell_type": "code",
   "execution_count": 12,
   "id": "779462fc-be1c-4c73-a2db-8ad94f9a0bf4",
   "metadata": {},
   "outputs": [
    {
     "data": {
      "text/html": [
       "<div>\n",
       "<style scoped>\n",
       "    .dataframe tbody tr th:only-of-type {\n",
       "        vertical-align: middle;\n",
       "    }\n",
       "\n",
       "    .dataframe tbody tr th {\n",
       "        vertical-align: top;\n",
       "    }\n",
       "\n",
       "    .dataframe thead th {\n",
       "        text-align: right;\n",
       "    }\n",
       "</style>\n",
       "<table border=\"1\" class=\"dataframe\">\n",
       "  <thead>\n",
       "    <tr style=\"text-align: right;\">\n",
       "      <th>variable</th>\n",
       "      <th>Condition</th>\n",
       "      <th>df</th>\n",
       "      <th>mse</th>\n",
       "      <th>p_value</th>\n",
       "      <th>se</th>\n",
       "      <th>t</th>\n",
       "      <th>theta</th>\n",
       "      <th>Source</th>\n",
       "      <th>Detector</th>\n",
       "      <th>Chroma</th>\n",
       "      <th>Significant</th>\n",
       "      <th>ch_name</th>\n",
       "    </tr>\n",
       "  </thead>\n",
       "  <tbody>\n",
       "    <tr>\n",
       "      <th>0</th>\n",
       "      <td>LOW</td>\n",
       "      <td>2.0</td>\n",
       "      <td>1.305236e-13</td>\n",
       "      <td>0.003235</td>\n",
       "      <td>2.499395e-07</td>\n",
       "      <td>-17.538039</td>\n",
       "      <td>-4.383449e-06</td>\n",
       "      <td>33</td>\n",
       "      <td>34</td>\n",
       "      <td>hbo</td>\n",
       "      <td>True</td>\n",
       "      <td>S33_D34 hbo</td>\n",
       "    </tr>\n",
       "    <tr>\n",
       "      <th>2</th>\n",
       "      <td>LOW</td>\n",
       "      <td>2.0</td>\n",
       "      <td>6.898445e-14</td>\n",
       "      <td>0.001221</td>\n",
       "      <td>1.817046e-07</td>\n",
       "      <td>-28.594033</td>\n",
       "      <td>-5.195668e-06</td>\n",
       "      <td>33</td>\n",
       "      <td>34</td>\n",
       "      <td>hbr</td>\n",
       "      <td>True</td>\n",
       "      <td>S33_D34 hbr</td>\n",
       "    </tr>\n",
       "    <tr>\n",
       "      <th>4</th>\n",
       "      <td>LOW</td>\n",
       "      <td>2.0</td>\n",
       "      <td>2.517737e-14</td>\n",
       "      <td>0.001094</td>\n",
       "      <td>1.097730e-07</td>\n",
       "      <td>-30.202249</td>\n",
       "      <td>-3.315392e-06</td>\n",
       "      <td>33</td>\n",
       "      <td>40</td>\n",
       "      <td>hbo</td>\n",
       "      <td>True</td>\n",
       "      <td>S33_D40 hbo</td>\n",
       "    </tr>\n",
       "    <tr>\n",
       "      <th>6</th>\n",
       "      <td>LOW</td>\n",
       "      <td>2.0</td>\n",
       "      <td>9.167531e-15</td>\n",
       "      <td>0.004697</td>\n",
       "      <td>6.623943e-08</td>\n",
       "      <td>-14.539120</td>\n",
       "      <td>-9.630629e-07</td>\n",
       "      <td>33</td>\n",
       "      <td>40</td>\n",
       "      <td>hbr</td>\n",
       "      <td>True</td>\n",
       "      <td>S33_D40 hbr</td>\n",
       "    </tr>\n",
       "    <tr>\n",
       "      <th>8</th>\n",
       "      <td>LOW</td>\n",
       "      <td>2.0</td>\n",
       "      <td>1.617086e-14</td>\n",
       "      <td>0.001754</td>\n",
       "      <td>8.797452e-08</td>\n",
       "      <td>-23.846162</td>\n",
       "      <td>-2.097855e-06</td>\n",
       "      <td>33</td>\n",
       "      <td>43</td>\n",
       "      <td>hbo</td>\n",
       "      <td>True</td>\n",
       "      <td>S33_D43 hbo</td>\n",
       "    </tr>\n",
       "    <tr>\n",
       "      <th>12</th>\n",
       "      <td>LOW</td>\n",
       "      <td>2.0</td>\n",
       "      <td>2.262010e-14</td>\n",
       "      <td>0.002631</td>\n",
       "      <td>1.040489e-07</td>\n",
       "      <td>-19.457584</td>\n",
       "      <td>-2.024541e-06</td>\n",
       "      <td>33</td>\n",
       "      <td>44</td>\n",
       "      <td>hbo</td>\n",
       "      <td>True</td>\n",
       "      <td>S33_D44 hbo</td>\n",
       "    </tr>\n",
       "    <tr>\n",
       "      <th>16</th>\n",
       "      <td>LOW</td>\n",
       "      <td>2.0</td>\n",
       "      <td>1.806847e-13</td>\n",
       "      <td>0.002348</td>\n",
       "      <td>2.940703e-07</td>\n",
       "      <td>-20.599809</td>\n",
       "      <td>-6.057791e-06</td>\n",
       "      <td>34</td>\n",
       "      <td>33</td>\n",
       "      <td>hbo</td>\n",
       "      <td>True</td>\n",
       "      <td>S34_D33 hbo</td>\n",
       "    </tr>\n",
       "    <tr>\n",
       "      <th>18</th>\n",
       "      <td>LOW</td>\n",
       "      <td>2.0</td>\n",
       "      <td>8.709833e-14</td>\n",
       "      <td>0.002895</td>\n",
       "      <td>2.041716e-07</td>\n",
       "      <td>18.543865</td>\n",
       "      <td>3.786130e-06</td>\n",
       "      <td>34</td>\n",
       "      <td>33</td>\n",
       "      <td>hbr</td>\n",
       "      <td>True</td>\n",
       "      <td>S34_D33 hbr</td>\n",
       "    </tr>\n",
       "    <tr>\n",
       "      <th>22</th>\n",
       "      <td>LOW</td>\n",
       "      <td>2.0</td>\n",
       "      <td>1.929946e-13</td>\n",
       "      <td>0.010198</td>\n",
       "      <td>3.039226e-07</td>\n",
       "      <td>-9.826523</td>\n",
       "      <td>-2.986502e-06</td>\n",
       "      <td>34</td>\n",
       "      <td>39</td>\n",
       "      <td>hbr</td>\n",
       "      <td>True</td>\n",
       "      <td>S34_D39 hbr</td>\n",
       "    </tr>\n",
       "    <tr>\n",
       "      <th>24</th>\n",
       "      <td>LOW</td>\n",
       "      <td>2.0</td>\n",
       "      <td>6.821670e-14</td>\n",
       "      <td>0.011420</td>\n",
       "      <td>1.806907e-07</td>\n",
       "      <td>-9.277220</td>\n",
       "      <td>-1.676307e-06</td>\n",
       "      <td>34</td>\n",
       "      <td>41</td>\n",
       "      <td>hbo</td>\n",
       "      <td>True</td>\n",
       "      <td>S34_D41 hbo</td>\n",
       "    </tr>\n",
       "    <tr>\n",
       "      <th>26</th>\n",
       "      <td>LOW</td>\n",
       "      <td>2.0</td>\n",
       "      <td>5.762815e-14</td>\n",
       "      <td>0.001374</td>\n",
       "      <td>1.660763e-07</td>\n",
       "      <td>-26.945835</td>\n",
       "      <td>-4.475065e-06</td>\n",
       "      <td>34</td>\n",
       "      <td>41</td>\n",
       "      <td>hbr</td>\n",
       "      <td>True</td>\n",
       "      <td>S34_D41 hbr</td>\n",
       "    </tr>\n",
       "    <tr>\n",
       "      <th>28</th>\n",
       "      <td>LOW</td>\n",
       "      <td>2.0</td>\n",
       "      <td>4.245465e-14</td>\n",
       "      <td>0.001292</td>\n",
       "      <td>1.425453e-07</td>\n",
       "      <td>-27.798689</td>\n",
       "      <td>-3.962573e-06</td>\n",
       "      <td>34</td>\n",
       "      <td>43</td>\n",
       "      <td>hbo</td>\n",
       "      <td>True</td>\n",
       "      <td>S34_D43 hbo</td>\n",
       "    </tr>\n",
       "    <tr>\n",
       "      <th>30</th>\n",
       "      <td>LOW</td>\n",
       "      <td>2.0</td>\n",
       "      <td>1.737849e-14</td>\n",
       "      <td>0.001679</td>\n",
       "      <td>9.120033e-08</td>\n",
       "      <td>24.375888</td>\n",
       "      <td>2.223089e-06</td>\n",
       "      <td>34</td>\n",
       "      <td>43</td>\n",
       "      <td>hbr</td>\n",
       "      <td>True</td>\n",
       "      <td>S34_D43 hbr</td>\n",
       "    </tr>\n",
       "    <tr>\n",
       "      <th>32</th>\n",
       "      <td>LOW</td>\n",
       "      <td>2.0</td>\n",
       "      <td>1.743735e-13</td>\n",
       "      <td>0.007902</td>\n",
       "      <td>2.888887e-07</td>\n",
       "      <td>11.182723</td>\n",
       "      <td>3.230563e-06</td>\n",
       "      <td>39</td>\n",
       "      <td>33</td>\n",
       "      <td>hbo</td>\n",
       "      <td>True</td>\n",
       "      <td>S39_D33 hbo</td>\n",
       "    </tr>\n",
       "    <tr>\n",
       "      <th>34</th>\n",
       "      <td>LOW</td>\n",
       "      <td>2.0</td>\n",
       "      <td>1.761282e-13</td>\n",
       "      <td>0.014519</td>\n",
       "      <td>2.903386e-07</td>\n",
       "      <td>-8.208542</td>\n",
       "      <td>-2.383257e-06</td>\n",
       "      <td>39</td>\n",
       "      <td>33</td>\n",
       "      <td>hbr</td>\n",
       "      <td>True</td>\n",
       "      <td>S39_D33 hbr</td>\n",
       "    </tr>\n",
       "    <tr>\n",
       "      <th>36</th>\n",
       "      <td>LOW</td>\n",
       "      <td>2.0</td>\n",
       "      <td>2.897348e-13</td>\n",
       "      <td>0.004177</td>\n",
       "      <td>3.723837e-07</td>\n",
       "      <td>-15.424685</td>\n",
       "      <td>-5.743902e-06</td>\n",
       "      <td>39</td>\n",
       "      <td>34</td>\n",
       "      <td>hbo</td>\n",
       "      <td>True</td>\n",
       "      <td>S39_D34 hbo</td>\n",
       "    </tr>\n",
       "    <tr>\n",
       "      <th>40</th>\n",
       "      <td>LOW</td>\n",
       "      <td>2.0</td>\n",
       "      <td>2.678982e-14</td>\n",
       "      <td>0.002024</td>\n",
       "      <td>1.132336e-07</td>\n",
       "      <td>-22.192459</td>\n",
       "      <td>-2.512932e-06</td>\n",
       "      <td>39</td>\n",
       "      <td>40</td>\n",
       "      <td>hbo</td>\n",
       "      <td>True</td>\n",
       "      <td>S39_D40 hbo</td>\n",
       "    </tr>\n",
       "    <tr>\n",
       "      <th>42</th>\n",
       "      <td>LOW</td>\n",
       "      <td>2.0</td>\n",
       "      <td>2.706194e-14</td>\n",
       "      <td>0.001644</td>\n",
       "      <td>1.138072e-07</td>\n",
       "      <td>-24.630542</td>\n",
       "      <td>-2.803133e-06</td>\n",
       "      <td>39</td>\n",
       "      <td>40</td>\n",
       "      <td>hbr</td>\n",
       "      <td>True</td>\n",
       "      <td>S39_D40 hbr</td>\n",
       "    </tr>\n",
       "    <tr>\n",
       "      <th>44</th>\n",
       "      <td>LOW</td>\n",
       "      <td>2.0</td>\n",
       "      <td>3.889084e-14</td>\n",
       "      <td>0.000991</td>\n",
       "      <td>1.364313e-07</td>\n",
       "      <td>-31.734655</td>\n",
       "      <td>-4.329600e-06</td>\n",
       "      <td>39</td>\n",
       "      <td>43</td>\n",
       "      <td>hbo</td>\n",
       "      <td>True</td>\n",
       "      <td>S39_D43 hbo</td>\n",
       "    </tr>\n",
       "    <tr>\n",
       "      <th>48</th>\n",
       "      <td>LOW</td>\n",
       "      <td>2.0</td>\n",
       "      <td>3.210145e-14</td>\n",
       "      <td>0.000895</td>\n",
       "      <td>1.239517e-07</td>\n",
       "      <td>-33.410403</td>\n",
       "      <td>-4.141278e-06</td>\n",
       "      <td>40</td>\n",
       "      <td>33</td>\n",
       "      <td>hbo</td>\n",
       "      <td>True</td>\n",
       "      <td>S40_D33 hbo</td>\n",
       "    </tr>\n",
       "    <tr>\n",
       "      <th>50</th>\n",
       "      <td>LOW</td>\n",
       "      <td>2.0</td>\n",
       "      <td>8.730469e-15</td>\n",
       "      <td>0.005462</td>\n",
       "      <td>6.464116e-08</td>\n",
       "      <td>13.475211</td>\n",
       "      <td>8.710533e-07</td>\n",
       "      <td>40</td>\n",
       "      <td>33</td>\n",
       "      <td>hbr</td>\n",
       "      <td>True</td>\n",
       "      <td>S40_D33 hbr</td>\n",
       "    </tr>\n",
       "    <tr>\n",
       "      <th>52</th>\n",
       "      <td>LOW</td>\n",
       "      <td>2.0</td>\n",
       "      <td>5.325038e-14</td>\n",
       "      <td>0.002075</td>\n",
       "      <td>1.596437e-07</td>\n",
       "      <td>-21.917629</td>\n",
       "      <td>-3.499011e-06</td>\n",
       "      <td>40</td>\n",
       "      <td>39</td>\n",
       "      <td>hbo</td>\n",
       "      <td>True</td>\n",
       "      <td>S40_D39 hbo</td>\n",
       "    </tr>\n",
       "    <tr>\n",
       "      <th>54</th>\n",
       "      <td>LOW</td>\n",
       "      <td>2.0</td>\n",
       "      <td>2.182251e-14</td>\n",
       "      <td>0.001863</td>\n",
       "      <td>1.021981e-07</td>\n",
       "      <td>-23.137968</td>\n",
       "      <td>-2.364656e-06</td>\n",
       "      <td>40</td>\n",
       "      <td>39</td>\n",
       "      <td>hbr</td>\n",
       "      <td>True</td>\n",
       "      <td>S40_D39 hbr</td>\n",
       "    </tr>\n",
       "    <tr>\n",
       "      <th>56</th>\n",
       "      <td>LOW</td>\n",
       "      <td>2.0</td>\n",
       "      <td>1.551640e-13</td>\n",
       "      <td>0.002474</td>\n",
       "      <td>2.725121e-07</td>\n",
       "      <td>-20.066925</td>\n",
       "      <td>-5.468480e-06</td>\n",
       "      <td>40</td>\n",
       "      <td>41</td>\n",
       "      <td>hbo</td>\n",
       "      <td>True</td>\n",
       "      <td>S40_D41 hbo</td>\n",
       "    </tr>\n",
       "    <tr>\n",
       "      <th>58</th>\n",
       "      <td>LOW</td>\n",
       "      <td>2.0</td>\n",
       "      <td>2.106319e-13</td>\n",
       "      <td>0.006004</td>\n",
       "      <td>3.175064e-07</td>\n",
       "      <td>12.847948</td>\n",
       "      <td>4.079306e-06</td>\n",
       "      <td>40</td>\n",
       "      <td>41</td>\n",
       "      <td>hbr</td>\n",
       "      <td>True</td>\n",
       "      <td>S40_D41 hbr</td>\n",
       "    </tr>\n",
       "    <tr>\n",
       "      <th>60</th>\n",
       "      <td>LOW</td>\n",
       "      <td>2.0</td>\n",
       "      <td>3.534517e-14</td>\n",
       "      <td>0.001074</td>\n",
       "      <td>1.300635e-07</td>\n",
       "      <td>-30.486983</td>\n",
       "      <td>-3.965244e-06</td>\n",
       "      <td>40</td>\n",
       "      <td>44</td>\n",
       "      <td>hbo</td>\n",
       "      <td>True</td>\n",
       "      <td>S40_D44 hbo</td>\n",
       "    </tr>\n",
       "    <tr>\n",
       "      <th>62</th>\n",
       "      <td>LOW</td>\n",
       "      <td>2.0</td>\n",
       "      <td>1.452613e-14</td>\n",
       "      <td>0.007706</td>\n",
       "      <td>8.338065e-08</td>\n",
       "      <td>11.325457</td>\n",
       "      <td>9.443239e-07</td>\n",
       "      <td>40</td>\n",
       "      <td>44</td>\n",
       "      <td>hbr</td>\n",
       "      <td>True</td>\n",
       "      <td>S40_D44 hbr</td>\n",
       "    </tr>\n",
       "    <tr>\n",
       "      <th>64</th>\n",
       "      <td>LOW</td>\n",
       "      <td>2.0</td>\n",
       "      <td>5.253207e-14</td>\n",
       "      <td>0.001799</td>\n",
       "      <td>1.585633e-07</td>\n",
       "      <td>-23.547459</td>\n",
       "      <td>-3.733762e-06</td>\n",
       "      <td>41</td>\n",
       "      <td>33</td>\n",
       "      <td>hbo</td>\n",
       "      <td>True</td>\n",
       "      <td>S41_D33 hbo</td>\n",
       "    </tr>\n",
       "    <tr>\n",
       "      <th>66</th>\n",
       "      <td>LOW</td>\n",
       "      <td>2.0</td>\n",
       "      <td>1.986830e-14</td>\n",
       "      <td>0.002124</td>\n",
       "      <td>9.751485e-08</td>\n",
       "      <td>-21.662473</td>\n",
       "      <td>-2.112413e-06</td>\n",
       "      <td>41</td>\n",
       "      <td>33</td>\n",
       "      <td>hbr</td>\n",
       "      <td>True</td>\n",
       "      <td>S41_D33 hbr</td>\n",
       "    </tr>\n",
       "    <tr>\n",
       "      <th>68</th>\n",
       "      <td>LOW</td>\n",
       "      <td>2.0</td>\n",
       "      <td>8.639980e-14</td>\n",
       "      <td>0.006729</td>\n",
       "      <td>2.033512e-07</td>\n",
       "      <td>12.129321</td>\n",
       "      <td>2.466512e-06</td>\n",
       "      <td>41</td>\n",
       "      <td>34</td>\n",
       "      <td>hbo</td>\n",
       "      <td>True</td>\n",
       "      <td>S41_D34 hbo</td>\n",
       "    </tr>\n",
       "    <tr>\n",
       "      <th>72</th>\n",
       "      <td>LOW</td>\n",
       "      <td>2.0</td>\n",
       "      <td>1.037064e-13</td>\n",
       "      <td>0.003385</td>\n",
       "      <td>2.227887e-07</td>\n",
       "      <td>-17.144035</td>\n",
       "      <td>-3.819498e-06</td>\n",
       "      <td>41</td>\n",
       "      <td>40</td>\n",
       "      <td>hbo</td>\n",
       "      <td>True</td>\n",
       "      <td>S41_D40 hbo</td>\n",
       "    </tr>\n",
       "    <tr>\n",
       "      <th>74</th>\n",
       "      <td>LOW</td>\n",
       "      <td>2.0</td>\n",
       "      <td>9.560447e-14</td>\n",
       "      <td>0.008175</td>\n",
       "      <td>2.139092e-07</td>\n",
       "      <td>10.992434</td>\n",
       "      <td>2.351383e-06</td>\n",
       "      <td>41</td>\n",
       "      <td>40</td>\n",
       "      <td>hbr</td>\n",
       "      <td>True</td>\n",
       "      <td>S41_D40 hbr</td>\n",
       "    </tr>\n",
       "    <tr>\n",
       "      <th>76</th>\n",
       "      <td>LOW</td>\n",
       "      <td>2.0</td>\n",
       "      <td>1.386244e-13</td>\n",
       "      <td>0.021272</td>\n",
       "      <td>2.575789e-07</td>\n",
       "      <td>6.746524</td>\n",
       "      <td>1.737762e-06</td>\n",
       "      <td>41</td>\n",
       "      <td>43</td>\n",
       "      <td>hbo</td>\n",
       "      <td>True</td>\n",
       "      <td>S41_D43 hbo</td>\n",
       "    </tr>\n",
       "    <tr>\n",
       "      <th>78</th>\n",
       "      <td>LOW</td>\n",
       "      <td>2.0</td>\n",
       "      <td>1.992977e-13</td>\n",
       "      <td>0.002596</td>\n",
       "      <td>3.088456e-07</td>\n",
       "      <td>-19.590033</td>\n",
       "      <td>-6.050296e-06</td>\n",
       "      <td>41</td>\n",
       "      <td>43</td>\n",
       "      <td>hbr</td>\n",
       "      <td>True</td>\n",
       "      <td>S41_D43 hbr</td>\n",
       "    </tr>\n",
       "    <tr>\n",
       "      <th>80</th>\n",
       "      <td>LOW</td>\n",
       "      <td>2.0</td>\n",
       "      <td>4.528976e-14</td>\n",
       "      <td>0.001300</td>\n",
       "      <td>1.472280e-07</td>\n",
       "      <td>-27.703204</td>\n",
       "      <td>-4.078687e-06</td>\n",
       "      <td>43</td>\n",
       "      <td>39</td>\n",
       "      <td>hbo</td>\n",
       "      <td>True</td>\n",
       "      <td>S43_D39 hbo</td>\n",
       "    </tr>\n",
       "    <tr>\n",
       "      <th>84</th>\n",
       "      <td>LOW</td>\n",
       "      <td>2.0</td>\n",
       "      <td>1.642167e-14</td>\n",
       "      <td>0.009039</td>\n",
       "      <td>8.865415e-08</td>\n",
       "      <td>10.446778</td>\n",
       "      <td>9.261502e-07</td>\n",
       "      <td>43</td>\n",
       "      <td>44</td>\n",
       "      <td>hbo</td>\n",
       "      <td>True</td>\n",
       "      <td>S43_D44 hbo</td>\n",
       "    </tr>\n",
       "    <tr>\n",
       "      <th>86</th>\n",
       "      <td>LOW</td>\n",
       "      <td>2.0</td>\n",
       "      <td>1.470516e-14</td>\n",
       "      <td>0.005623</td>\n",
       "      <td>8.389292e-08</td>\n",
       "      <td>-13.278826</td>\n",
       "      <td>-1.113999e-06</td>\n",
       "      <td>43</td>\n",
       "      <td>44</td>\n",
       "      <td>hbr</td>\n",
       "      <td>True</td>\n",
       "      <td>S43_D44 hbr</td>\n",
       "    </tr>\n",
       "    <tr>\n",
       "      <th>88</th>\n",
       "      <td>LOW</td>\n",
       "      <td>2.0</td>\n",
       "      <td>4.063284e-14</td>\n",
       "      <td>0.012967</td>\n",
       "      <td>1.394533e-07</td>\n",
       "      <td>-8.696034</td>\n",
       "      <td>-1.212691e-06</td>\n",
       "      <td>44</td>\n",
       "      <td>33</td>\n",
       "      <td>hbo</td>\n",
       "      <td>True</td>\n",
       "      <td>S44_D33 hbo</td>\n",
       "    </tr>\n",
       "    <tr>\n",
       "      <th>90</th>\n",
       "      <td>LOW</td>\n",
       "      <td>2.0</td>\n",
       "      <td>1.720246e-14</td>\n",
       "      <td>0.001128</td>\n",
       "      <td>9.073725e-08</td>\n",
       "      <td>-29.748074</td>\n",
       "      <td>-2.699259e-06</td>\n",
       "      <td>44</td>\n",
       "      <td>33</td>\n",
       "      <td>hbr</td>\n",
       "      <td>True</td>\n",
       "      <td>S44_D33 hbr</td>\n",
       "    </tr>\n",
       "    <tr>\n",
       "      <th>92</th>\n",
       "      <td>LOW</td>\n",
       "      <td>2.0</td>\n",
       "      <td>2.180399e-14</td>\n",
       "      <td>0.002570</td>\n",
       "      <td>1.021547e-07</td>\n",
       "      <td>-19.689295</td>\n",
       "      <td>-2.011354e-06</td>\n",
       "      <td>44</td>\n",
       "      <td>40</td>\n",
       "      <td>hbo</td>\n",
       "      <td>True</td>\n",
       "      <td>S44_D40 hbo</td>\n",
       "    </tr>\n",
       "    <tr>\n",
       "      <th>94</th>\n",
       "      <td>LOW</td>\n",
       "      <td>2.0</td>\n",
       "      <td>1.041900e-14</td>\n",
       "      <td>0.035367</td>\n",
       "      <td>7.061604e-08</td>\n",
       "      <td>-5.175342</td>\n",
       "      <td>-3.654622e-07</td>\n",
       "      <td>44</td>\n",
       "      <td>40</td>\n",
       "      <td>hbr</td>\n",
       "      <td>True</td>\n",
       "      <td>S44_D40 hbr</td>\n",
       "    </tr>\n",
       "  </tbody>\n",
       "</table>\n",
       "</div>"
      ],
      "text/plain": [
       "variable Condition   df           mse   p_value            se          t  \\\n",
       "0              LOW  2.0  1.305236e-13  0.003235  2.499395e-07 -17.538039   \n",
       "2              LOW  2.0  6.898445e-14  0.001221  1.817046e-07 -28.594033   \n",
       "4              LOW  2.0  2.517737e-14  0.001094  1.097730e-07 -30.202249   \n",
       "6              LOW  2.0  9.167531e-15  0.004697  6.623943e-08 -14.539120   \n",
       "8              LOW  2.0  1.617086e-14  0.001754  8.797452e-08 -23.846162   \n",
       "12             LOW  2.0  2.262010e-14  0.002631  1.040489e-07 -19.457584   \n",
       "16             LOW  2.0  1.806847e-13  0.002348  2.940703e-07 -20.599809   \n",
       "18             LOW  2.0  8.709833e-14  0.002895  2.041716e-07  18.543865   \n",
       "22             LOW  2.0  1.929946e-13  0.010198  3.039226e-07  -9.826523   \n",
       "24             LOW  2.0  6.821670e-14  0.011420  1.806907e-07  -9.277220   \n",
       "26             LOW  2.0  5.762815e-14  0.001374  1.660763e-07 -26.945835   \n",
       "28             LOW  2.0  4.245465e-14  0.001292  1.425453e-07 -27.798689   \n",
       "30             LOW  2.0  1.737849e-14  0.001679  9.120033e-08  24.375888   \n",
       "32             LOW  2.0  1.743735e-13  0.007902  2.888887e-07  11.182723   \n",
       "34             LOW  2.0  1.761282e-13  0.014519  2.903386e-07  -8.208542   \n",
       "36             LOW  2.0  2.897348e-13  0.004177  3.723837e-07 -15.424685   \n",
       "40             LOW  2.0  2.678982e-14  0.002024  1.132336e-07 -22.192459   \n",
       "42             LOW  2.0  2.706194e-14  0.001644  1.138072e-07 -24.630542   \n",
       "44             LOW  2.0  3.889084e-14  0.000991  1.364313e-07 -31.734655   \n",
       "48             LOW  2.0  3.210145e-14  0.000895  1.239517e-07 -33.410403   \n",
       "50             LOW  2.0  8.730469e-15  0.005462  6.464116e-08  13.475211   \n",
       "52             LOW  2.0  5.325038e-14  0.002075  1.596437e-07 -21.917629   \n",
       "54             LOW  2.0  2.182251e-14  0.001863  1.021981e-07 -23.137968   \n",
       "56             LOW  2.0  1.551640e-13  0.002474  2.725121e-07 -20.066925   \n",
       "58             LOW  2.0  2.106319e-13  0.006004  3.175064e-07  12.847948   \n",
       "60             LOW  2.0  3.534517e-14  0.001074  1.300635e-07 -30.486983   \n",
       "62             LOW  2.0  1.452613e-14  0.007706  8.338065e-08  11.325457   \n",
       "64             LOW  2.0  5.253207e-14  0.001799  1.585633e-07 -23.547459   \n",
       "66             LOW  2.0  1.986830e-14  0.002124  9.751485e-08 -21.662473   \n",
       "68             LOW  2.0  8.639980e-14  0.006729  2.033512e-07  12.129321   \n",
       "72             LOW  2.0  1.037064e-13  0.003385  2.227887e-07 -17.144035   \n",
       "74             LOW  2.0  9.560447e-14  0.008175  2.139092e-07  10.992434   \n",
       "76             LOW  2.0  1.386244e-13  0.021272  2.575789e-07   6.746524   \n",
       "78             LOW  2.0  1.992977e-13  0.002596  3.088456e-07 -19.590033   \n",
       "80             LOW  2.0  4.528976e-14  0.001300  1.472280e-07 -27.703204   \n",
       "84             LOW  2.0  1.642167e-14  0.009039  8.865415e-08  10.446778   \n",
       "86             LOW  2.0  1.470516e-14  0.005623  8.389292e-08 -13.278826   \n",
       "88             LOW  2.0  4.063284e-14  0.012967  1.394533e-07  -8.696034   \n",
       "90             LOW  2.0  1.720246e-14  0.001128  9.073725e-08 -29.748074   \n",
       "92             LOW  2.0  2.180399e-14  0.002570  1.021547e-07 -19.689295   \n",
       "94             LOW  2.0  1.041900e-14  0.035367  7.061604e-08  -5.175342   \n",
       "\n",
       "variable         theta Source Detector Chroma  Significant      ch_name  \n",
       "0        -4.383449e-06     33       34    hbo         True  S33_D34 hbo  \n",
       "2        -5.195668e-06     33       34    hbr         True  S33_D34 hbr  \n",
       "4        -3.315392e-06     33       40    hbo         True  S33_D40 hbo  \n",
       "6        -9.630629e-07     33       40    hbr         True  S33_D40 hbr  \n",
       "8        -2.097855e-06     33       43    hbo         True  S33_D43 hbo  \n",
       "12       -2.024541e-06     33       44    hbo         True  S33_D44 hbo  \n",
       "16       -6.057791e-06     34       33    hbo         True  S34_D33 hbo  \n",
       "18        3.786130e-06     34       33    hbr         True  S34_D33 hbr  \n",
       "22       -2.986502e-06     34       39    hbr         True  S34_D39 hbr  \n",
       "24       -1.676307e-06     34       41    hbo         True  S34_D41 hbo  \n",
       "26       -4.475065e-06     34       41    hbr         True  S34_D41 hbr  \n",
       "28       -3.962573e-06     34       43    hbo         True  S34_D43 hbo  \n",
       "30        2.223089e-06     34       43    hbr         True  S34_D43 hbr  \n",
       "32        3.230563e-06     39       33    hbo         True  S39_D33 hbo  \n",
       "34       -2.383257e-06     39       33    hbr         True  S39_D33 hbr  \n",
       "36       -5.743902e-06     39       34    hbo         True  S39_D34 hbo  \n",
       "40       -2.512932e-06     39       40    hbo         True  S39_D40 hbo  \n",
       "42       -2.803133e-06     39       40    hbr         True  S39_D40 hbr  \n",
       "44       -4.329600e-06     39       43    hbo         True  S39_D43 hbo  \n",
       "48       -4.141278e-06     40       33    hbo         True  S40_D33 hbo  \n",
       "50        8.710533e-07     40       33    hbr         True  S40_D33 hbr  \n",
       "52       -3.499011e-06     40       39    hbo         True  S40_D39 hbo  \n",
       "54       -2.364656e-06     40       39    hbr         True  S40_D39 hbr  \n",
       "56       -5.468480e-06     40       41    hbo         True  S40_D41 hbo  \n",
       "58        4.079306e-06     40       41    hbr         True  S40_D41 hbr  \n",
       "60       -3.965244e-06     40       44    hbo         True  S40_D44 hbo  \n",
       "62        9.443239e-07     40       44    hbr         True  S40_D44 hbr  \n",
       "64       -3.733762e-06     41       33    hbo         True  S41_D33 hbo  \n",
       "66       -2.112413e-06     41       33    hbr         True  S41_D33 hbr  \n",
       "68        2.466512e-06     41       34    hbo         True  S41_D34 hbo  \n",
       "72       -3.819498e-06     41       40    hbo         True  S41_D40 hbo  \n",
       "74        2.351383e-06     41       40    hbr         True  S41_D40 hbr  \n",
       "76        1.737762e-06     41       43    hbo         True  S41_D43 hbo  \n",
       "78       -6.050296e-06     41       43    hbr         True  S41_D43 hbr  \n",
       "80       -4.078687e-06     43       39    hbo         True  S43_D39 hbo  \n",
       "84        9.261502e-07     43       44    hbo         True  S43_D44 hbo  \n",
       "86       -1.113999e-06     43       44    hbr         True  S43_D44 hbr  \n",
       "88       -1.212691e-06     44       33    hbo         True  S44_D33 hbo  \n",
       "90       -2.699259e-06     44       33    hbr         True  S44_D33 hbr  \n",
       "92       -2.011354e-06     44       40    hbo         True  S44_D40 hbo  \n",
       "94       -3.654622e-07     44       40    hbr         True  S44_D40 hbr  "
      ]
     },
     "execution_count": 12,
     "metadata": {},
     "output_type": "execute_result"
    }
   ],
   "source": [
    "glm_results_significant = glm_results[glm_results['Significant']]\n",
    "glm_results_significant[glm_results_significant['Condition'].isin(nirs.cases)]"
   ]
  },
  {
   "cell_type": "code",
   "execution_count": 13,
   "id": "4ea95f97-3bec-417e-bb52-3bb7f17a18cc",
   "metadata": {},
   "outputs": [],
   "source": [
    "significant_channels = list(glm_results_significant[\n",
    "    glm_results_significant['Condition'].isin(list(set(nirs.cases)))\n",
    "    & (((glm_results_significant['Chroma'] == 'hbo') & (glm_results_significant['theta'] > 0))\n",
    "     | ((glm_results_significant['Chroma'] == 'hbr') & (glm_results_significant['theta'] < 0)))\n",
    "]['ch_name'].unique())"
   ]
  },
  {
   "cell_type": "raw",
   "id": "071db7a1-6833-48b3-9d91-146a72ea8582",
   "metadata": {},
   "source": [
    "ips_channels_significant = utils.dec_to_hex(list({f'{s_d} {ch_type}'\n",
    "                       for s_d in utils.hex_to_dec([ # ['22', '28', '29', '2B']\n",
    "                           'S22_D28', 'S22_D29', 'S22_D2B', 'S28_D22', 'S28_D29', 'S28_D2B', 'S29_D28', 'S29_D2B', 'S2B_D22', 'S2B_D28', 'S2B_D29'])\n",
    "                       for ch_type in constants.HB_CHANNEL_TYPES\n",
    "                      }.intersection(set(significant_channels))))"
   ]
  },
  {
   "cell_type": "code",
   "execution_count": 14,
   "id": "8cdbac70-8549-42b8-a9ba-ae02ea319685",
   "metadata": {},
   "outputs": [
    {
     "data": {
      "image/png": "[encoded data removed]",
      "text/plain": [
       "<Figure size 1800x600 with 4 Axes>"
      ]
     },
     "metadata": {},
     "output_type": "display_data"
    }
   ],
   "source": [
    "nirs.plot_average_heatmap(picks=significant_channels + utils.find_ch_pairs(nirs.raw.ch_names, significant_channels),\n",
    "                          clim={'hbo': [-5, 5], 'hbr': [-5, 5]}).tight_layout()"
   ]
  },
  {
   "cell_type": "raw",
   "id": "eda207d7-26d8-40ca-b3cc-2dd13a067a27",
   "metadata": {},
   "source": [
    "nirs.plot_average_waveform(picks=significant_channels, cases=nirs.cases, title_format_hex=False, separate_cases=True, sharey=True).tight_layout()"
   ]
  },
  {
   "cell_type": "raw",
   "id": "07e4162b-ba26-457e-af66-a7693072284f",
   "metadata": {
    "tags": []
   },
   "source": [
    "mne.viz.plot_epochs_image(nirs.epochs, picks=significant_channels, sigma=.5, vmin=-5000, vmax=5000, show=True)"
   ]
  },
  {
   "cell_type": "markdown",
   "id": "d12490e2-f23c-4a33-899d-076e5b89e982",
   "metadata": {
    "jp-MarkdownHeadingCollapsed": true,
    "tags": []
   },
   "source": [
    "##### `Contrast Analysis`\n",
    "\n",
    "> Compute and visualize constrasts between cases"
   ]
  },
  {
   "cell_type": "raw",
   "id": "9000123d-1067-4dc1-902e-ff973562a788",
   "metadata": {},
   "source": [
    "contrast_matrix = np.eye(design_matrix.shape[1])\n",
    "basic_conts = dict([(column, contrast_matrix[i]) for i, column in enumerate(design_matrix.columns)])"
   ]
  },
  {
   "cell_type": "raw",
   "id": "034bac9f-702f-41f6-bd11-4ebc87dbc626",
   "metadata": {},
   "source": [
    "contrast_est = glm_est.compute_contrast(basic_conts[nirs.case[1]] - basic_conts[nirs.case[0]])\n",
    "contrast_results = contrast_est.to_dataframe()"
   ]
  },
  {
   "cell_type": "raw",
   "id": "31b78f5d-47c6-40ef-b2de-41c0970f3de5",
   "metadata": {},
   "source": [
    "contrast_results['Significant'] = st.multitest.multipletests(contrast_results['p_value'])[0]"
   ]
  },
  {
   "cell_type": "raw",
   "id": "94e8ce1b-1229-4aeb-bece-2715769b11d3",
   "metadata": {},
   "source": [
    "contrast_results_significant = contrast_results[contrast_results['Significant']]\n",
    "contrast_results_significant[contrast_results_significant['Condition'].isin(nirs.cases)]"
   ]
  },
  {
   "cell_type": "raw",
   "id": "25576d0c-32ca-4a38-90d2-6f2ee9ba24db",
   "metadata": {},
   "source": [
    "significant_channels_contrast = list(contrast_results_significant['ch_name'].unique())"
   ]
  },
  {
   "cell_type": "raw",
   "id": "cecd1eea-36b2-4852-866a-c49ad89e3fb0",
   "metadata": {},
   "source": [
    "contrast.scatter()"
   ]
  },
  {
   "cell_type": "markdown",
   "id": "f51911c2-c88c-4e5b-b4e9-380d70f03e91",
   "metadata": {
    "jp-MarkdownHeadingCollapsed": true,
    "tags": []
   },
   "source": [
    "##### `GLM Analysis (combined)`"
   ]
  },
  {
   "cell_type": "code",
   "execution_count": 15,
   "id": "5a97c7bc-3f47-4ae8-bbf4-f93cfea1bdc2",
   "metadata": {},
   "outputs": [],
   "source": [
    "nirs_1 = NIRS(project='Multi-object Tracking').read(1, 2, 2, augment=True, transform=True, correction_factor=0.779)\n",
    "nirs_2 = NIRS(project='Multi-object Tracking').read(1, 2, 3, augment=True, transform=True, correction_factor=0.779)"
   ]
  },
  {
   "cell_type": "code",
   "execution_count": 16,
   "id": "bf5b586e-e89b-4c34-982e-f6307758964b",
   "metadata": {},
   "outputs": [
    {
     "name": "stderr",
     "output_type": "stream",
     "text": [
      "/home/pulkitgoyal56/fNIRS-attentional-load/nirs.py:608: RuntimeWarning: Negative intensities encountered. Setting to abs(x)\n",
      "  return func(self.raw, *args, **kwargs)\n",
      "/home/pulkitgoyal56/fNIRS-attentional-load/nirs.py:608: RuntimeWarning: Negative intensities encountered. Setting to abs(x)\n",
      "  return func(self.raw, *args, **kwargs)\n"
     ]
    }
   ],
   "source": [
    "savepoints_1 = nirs_1.default_pipeline(remove_backlight=True, tddr=True, autopick_channels=False, short_channel_regression=True, bandpass=True, negative_correlation_enhancement=False, l_trans_bandwidth=0.007, h_trans_bandwidth=0.007)\n",
    "savepoints_2 = nirs_2.default_pipeline(remove_backlight=True, tddr=True, autopick_channels=False, short_channel_regression=True, bandpass=True, negative_correlation_enhancement=False, l_trans_bandwidth=0.007, h_trans_bandwidth=0.007)"
   ]
  },
  {
   "cell_type": "code",
   "execution_count": 17,
   "id": "b01f229c-fa89-4e3f-9a84-8c466e737157",
   "metadata": {
    "tags": []
   },
   "outputs": [],
   "source": [
    "nirs_1.get_epochs(tmin=-(nirs_1.DUR['wait']), tmax=(nirs_1.DUR['motion'] + nirs_1.DUR['probe'] + nirs_1.DUR['feedb']), baseline=(-0.1, 0))\n",
    "nirs_2.get_epochs(tmin=-(nirs_1.DUR['wait']), tmax=(nirs_2.DUR['motion'] + nirs_2.DUR['probe'] + nirs_2.DUR['feedb']), baseline=(-0.1, 0));\n",
    "\n",
    "# Drop epochs where response was not correct\n",
    "# nirs.epochs.drop(nirs.mat['id_correct'] != 1);\n",
    "\n",
    "nirs_1.block_average();\n",
    "nirs_2.block_average();"
   ]
  },
  {
   "cell_type": "code",
   "execution_count": 18,
   "id": "a0c4ad6d-6724-4e6a-8eb8-4aec8cc3eb02",
   "metadata": {},
   "outputs": [],
   "source": [
    "raw_haemo_1 = nirs_1.raw.copy()\n",
    "raw_haemo_2 = nirs_2.raw.copy()"
   ]
  },
  {
   "cell_type": "code",
   "execution_count": 19,
   "id": "a59e14d2-490d-44dc-b0c2-1828b2e47fd3",
   "metadata": {},
   "outputs": [],
   "source": [
    "raw_haemo_1.info['bads'] = raw_haemo_2.info['bads'] = list(set(raw_haemo_1.info['bads'] + raw_haemo_1.info['bads']))\n",
    "raw_haemo_combined = mne.concatenate_raws([raw_haemo_1, raw_haemo_2])"
   ]
  },
  {
   "cell_type": "code",
   "execution_count": 20,
   "id": "10e63468-8219-4c0d-afe0-e688f49a5236",
   "metadata": {},
   "outputs": [
    {
     "name": "stderr",
     "output_type": "stream",
     "text": [
      "/home/pulkitgoyal56/miniconda3/envs/fnirs/lib/python3.10/site-packages/nilearn/_utils/glm.py:310: UserWarning: Matrix is singular at working precision, regularizing...\n",
      "  warn('Matrix is singular at working precision, regularizing...')\n"
     ]
    }
   ],
   "source": [
    "design_matrix_combined = mne_nirs.experimental_design.make_first_level_design_matrix(raw_haemo_combined,\n",
    "                                                                                     hrf_model= 'spm', # 'spm + derivative + dispersion',\n",
    "                                                                                     drift_model=None, # 'cosine', 'polynomial'\n",
    "                                                                                     # drift_order=3,\n",
    "                                                                                     # high_pass=1/2/(nirs.DUR['trial']),\n",
    "                                                                                     stim_dur=nirs.DUR['motion'])\n",
    "\n",
    "# design_matrix['mean_ss_hbo'] = np.r_[np.mean(nirs_1.raw_ss.copy().pick('hbo').get_data(), axis=0), np.mean(nirs_2.raw_ss.copy().pick('hbo').get_data(), axis=0)]\n",
    "# design_matrix['mean_ss_hbr'] = np.r_[np.mean(nirs_1.raw_ss.copy().pick('hbr').get_data(), axis=0), np.mean(nirs_2.raw_ss.copy().pick('hbr').get_data(), axis=0)]\n",
    "\n",
    "# design_matrix_combined.drop(columns=['BAD boundary'], inplace=True)\n",
    "# design_matrix_combined.drop(columns=['EDGE boundary'], inplace=True);"
   ]
  },
  {
   "cell_type": "code",
   "execution_count": 21,
   "id": "74d9fff4-27e7-49ef-bd58-9a13567fe3fc",
   "metadata": {
    "tags": []
   },
   "outputs": [],
   "source": [
    "glm_est_combined = mne_nirs.statistics.run_glm(raw_haemo_combined, design_matrix_combined)\n",
    "glm_results_combined = glm_est_combined.to_dataframe()"
   ]
  },
  {
   "cell_type": "raw",
   "id": "167d6b27-cbcd-4c30-a9ad-aef2dec73c71",
   "metadata": {
    "tags": []
   },
   "source": [
    "glm_results_combined['Significant'] = st.multitest.multipletests(glm_results_combined['p_value'])[0]"
   ]
  },
  {
   "cell_type": "code",
   "execution_count": 22,
   "id": "dac3b7f8-84ce-4624-865d-e2435cfb31bc",
   "metadata": {},
   "outputs": [
    {
     "data": {
      "text/html": [
       "<div>\n",
       "<style scoped>\n",
       "    .dataframe tbody tr th:only-of-type {\n",
       "        vertical-align: middle;\n",
       "    }\n",
       "\n",
       "    .dataframe tbody tr th {\n",
       "        vertical-align: top;\n",
       "    }\n",
       "\n",
       "    .dataframe thead th {\n",
       "        text-align: right;\n",
       "    }\n",
       "</style>\n",
       "<table border=\"1\" class=\"dataframe\">\n",
       "  <thead>\n",
       "    <tr style=\"text-align: right;\">\n",
       "      <th>variable</th>\n",
       "      <th>Condition</th>\n",
       "      <th>df</th>\n",
       "      <th>mse</th>\n",
       "      <th>p_value</th>\n",
       "      <th>se</th>\n",
       "      <th>t</th>\n",
       "      <th>theta</th>\n",
       "      <th>Source</th>\n",
       "      <th>Detector</th>\n",
       "      <th>Chroma</th>\n",
       "      <th>Significant</th>\n",
       "      <th>ch_name</th>\n",
       "    </tr>\n",
       "  </thead>\n",
       "  <tbody>\n",
       "  </tbody>\n",
       "</table>\n",
       "</div>"
      ],
      "text/plain": [
       "Empty DataFrame\n",
       "Columns: [Condition, df, mse, p_value, se, t, theta, Source, Detector, Chroma, Significant, ch_name]\n",
       "Index: []"
      ]
     },
     "execution_count": 22,
     "metadata": {},
     "output_type": "execute_result"
    }
   ],
   "source": [
    "glm_results_combined_significant = glm_results_combined[glm_results_combined['Significant']]\n",
    "glm_results_combined_significant[glm_results_combined_significant['Condition'].isin(nirs.cases)]"
   ]
  },
  {
   "cell_type": "code",
   "execution_count": 23,
   "id": "c94fcf05-77dd-440e-b6be-76c8309f880c",
   "metadata": {},
   "outputs": [],
   "source": [
    "significant_channels_combined = list(glm_results_combined_significant[\n",
    "    glm_results_combined_significant['Condition'].isin(list(set(nirs.cases)))\n",
    "    & (((glm_results_combined_significant['Chroma'] == 'hbo') & (glm_results_combined_significant['theta'] > 0))\n",
    "     | ((glm_results_combined_significant['Chroma'] == 'hbr') & (glm_results_combined_significant['theta'] < 0)))\n",
    "]['ch_name'].unique())"
   ]
  },
  {
   "cell_type": "raw",
   "id": "da5792d5-9cc5-417e-b8da-ba9c0e711dcd",
   "metadata": {},
   "source": [
    "ips_channels_significant = list({f'{s_d} {ch_type}'\n",
    "                       for s_d in utils.hex_to_dec([ # ['22', '28', '29', '2B']\n",
    "                           'S22_D28', 'S22_D29', 'S22_D2B', 'S28_D22', 'S28_D29', 'S28_D2B', 'S29_D28', 'S29_D2B', 'S2B_D22', 'S2B_D28', 'S2B_D29'])\n",
    "                       for ch_type in constants.HB_CHANNEL_TYPES\n",
    "                      }.intersection(set(significant_channels_combined)))"
   ]
  },
  {
   "cell_type": "raw",
   "id": "5cbe6073-17f7-4d4a-b71a-d101910cf1ff",
   "metadata": {},
   "source": [
    "nirs_1.plot_average_heatmap(significant_channels_combined + utils.find_ch_pairs(nirs_1.raw.ch_names, significant_channels_combined),\n",
    "                            clim={'hbo': [-5, 5], 'hbr': [-5, 5]}).tight_layout()"
   ]
  },
  {
   "cell_type": "raw",
   "id": "860b9869-7598-4939-a874-3e8236b8d27b",
   "metadata": {},
   "source": [
    "nirs_1.plot_average_waveform(picks=significant_channels_combined,\n",
    "                             cases=nirs_1.cases, title_format_hex=False, separate_cases=True, sharey=True).tight_layout()"
   ]
  },
  {
   "cell_type": "markdown",
   "id": "c0d2d4d5-844f-43e0-a59b-3b3d3851e808",
   "metadata": {
    "jp-MarkdownHeadingCollapsed": true,
    "tags": []
   },
   "source": [
    "##### `Plotting for GLM Analysis`"
   ]
  },
  {
   "cell_type": "raw",
   "id": "2cdbcef1-c8e5-42e3-9688-e2ef1d01aa6f",
   "metadata": {},
   "source": [
    "# Plot design matrix\n",
    "\n",
    "nilearn.plotting.plot_design_matrix(design_matrix)"
   ]
  },
  {
   "cell_type": "raw",
   "id": "73333113-a1e1-46fb-86ae-6a61e5c417f1",
   "metadata": {},
   "source": [
    "# Visualize regression coefficients for all channels\n",
    "\n",
    "glm_est.scatter();"
   ]
  },
  {
   "cell_type": "raw",
   "id": "f0be2d36-e70f-4d5b-965b-b4e20ddf9c98",
   "metadata": {},
   "source": [
    "# View topographic distibution of activities\n",
    "\n",
    "glm_est.plot_topo(conditions=nirs.cases);"
   ]
  },
  {
   "cell_type": "raw",
   "id": "b0da82dd-e2c5-418d-b9d1-5486fa58323c",
   "metadata": {},
   "source": [
    "# Compute and visualize constrasts between cases\n",
    "\n",
    "contrast_matrix = np.eye(design_matrix.shape[1])\n",
    "basic_conts = dict([(column, contrast_matrix[i]) for i, column in enumerate(design_matrix.columns)])\n",
    "contrast_LvR = basic_conts['2'] - basic_conts['0']\n",
    "\n",
    "contrast = glm_est.compute_contrast(contrast_LvR)\n",
    "contrast.plot_topo();"
   ]
  },
  {
   "cell_type": "raw",
   "id": "83afe472-eb99-4771-885a-2f5f0b7a0be4",
   "metadata": {},
   "source": [
    "# Summarize data (compute TP and FP rates)\n",
    "\n",
    "(glm_est.to_dataframe()\n",
    " .query(\"Condition in nirs.cases\")\n",
    " .drop(['df', 'mse', 'p_value', 't'], axis=1)\n",
    " .groupby(['Condition', 'Chroma', 'ch_name'])\n",
    " .agg(['mean']))"
   ]
  },
  {
   "cell_type": "markdown",
   "id": "464f86f1-0b0b-4f08-9d93-83e50a9d69d5",
   "metadata": {
    "jp-MarkdownHeadingCollapsed": true,
    "tags": []
   },
   "source": [
    "##### `Clustering`\n",
    "\n",
    "> Relevant features  \n",
    ">> For intervals of 1s in the epochs.  \n",
    ">> - Area under the curve  \n",
    ">> - Average slope  \n",
    ">> - Maximum amplitude"
   ]
  },
  {
   "cell_type": "raw",
   "id": "06737bb7-1c86-4654-9585-e68411eb9929",
   "metadata": {},
   "source": [
    "clusters = sc.cluster.hierarchy.linkage(nirs.epochs.get_data()[:, 0, :], method='ward', metric=\"euclidean\")"
   ]
  },
  {
   "cell_type": "raw",
   "id": "b308f2ed-0178-43e7-b5e7-5d26731a0c44",
   "metadata": {},
   "source": [
    "sc.cluster.hierarchy.dendrogram(Z=clusters)\n",
    "plt.show()"
   ]
  },
  {
   "cell_type": "code",
   "execution_count": null,
   "id": "fd78eae2-754d-44b0-843c-881a0e941fe6",
   "metadata": {},
   "outputs": [],
   "source": []
  }
 ],
 "metadata": {
  "kernelspec": {
   "display_name": "Python 3 (ipykernel)",
   "language": "python",
   "name": "python3"
  },
  "language_info": {
   "codemirror_mode": {
    "name": "ipython",
    "version": 3
   },
   "file_extension": ".py",
   "mimetype": "text/x-python",
   "name": "python",
   "nbconvert_exporter": "python",
   "pygments_lexer": "ipython3",
   "version": "3.10.8"
  },
  "vscode": {
   "interpreter": {
    "hash": "0f589f7137c7f25103dd6a6e330ec0c0772eb7f22b3e4ba8c4980947ae7bbe74"
   }
  }
 },
 "nbformat": 4,
 "nbformat_minor": 5
}
