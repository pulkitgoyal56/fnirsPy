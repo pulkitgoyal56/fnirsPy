{
 "cells": [
  {
   "cell_type": "code",
   "execution_count": 1,
   "id": "29c8dc5c-aafd-409f-85c8-88565795f0af",
   "metadata": {},
   "outputs": [],
   "source": [
    "import os\n",
    "import itertools\n",
    "import functools\n",
    "import tomli\n",
    "import pathlib\n",
    "import glob\n",
    "import re"
   ]
  },
  {
   "cell_type": "code",
   "execution_count": 2,
   "id": "7f0fb1fd-eccf-4c43-9e0a-6e7c9aa42ae8",
   "metadata": {},
   "outputs": [],
   "source": [
    "import numpy as np\n",
    "import pandas as pd"
   ]
  },
  {
   "cell_type": "code",
   "execution_count": 3,
   "id": "765eeeba-3ccb-43db-ab61-f2a4e4c8e06d",
   "metadata": {},
   "outputs": [],
   "source": [
    "import statsmodels.api as sm\n",
    "import scipy as sc"
   ]
  },
  {
   "cell_type": "code",
   "execution_count": 4,
   "id": "8bef4b54-7de2-419d-9ce4-21a30bf92f63",
   "metadata": {},
   "outputs": [],
   "source": [
    "import matplotlib.pyplot as plt"
   ]
  },
  {
   "cell_type": "code",
   "execution_count": 5,
   "id": "87079a70-7fb5-4ae2-b30a-7105188a9e2a",
   "metadata": {},
   "outputs": [],
   "source": [
    "import mne\n",
    "import mne_nirs"
   ]
  },
  {
   "cell_type": "code",
   "execution_count": 6,
   "id": "0fae0656-e96e-4362-acbd-47a6181f0327",
   "metadata": {},
   "outputs": [],
   "source": [
    "import mbll"
   ]
  },
  {
   "cell_type": "code",
   "execution_count": 7,
   "id": "1dea03fa-cd81-47ed-be86-c2cd7a292809",
   "metadata": {},
   "outputs": [],
   "source": [
    "import utils\n",
    "import constants\n",
    "from nirs import NIRS"
   ]
  },
  {
   "cell_type": "code",
   "execution_count": 8,
   "id": "429c3aa1-5976-4f82-9896-e4e075415cd6",
   "metadata": {},
   "outputs": [],
   "source": [
    "mne.set_log_level('WARNING')"
   ]
  },
  {
   "cell_type": "code",
   "execution_count": 9,
   "id": "342ca28f-c623-4fed-b5ee-0a331c57272e",
   "metadata": {},
   "outputs": [
    {
     "name": "stderr",
     "output_type": "stream",
     "text": [
      "/home/pulkitgoyal56/fNIRS-attentional-load/nirs.py:398: RuntimeWarning: Fiducial point nasion not found, assuming identity unknown to head transformation\n",
      "  self.raw.set_montage(mne.channels.read_custom_montage(self.montage_file_path, coord_frame='mri'))\n"
     ]
    }
   ],
   "source": [
    "nirs = NIRS().read(1, 1, 4)"
   ]
  },
  {
   "cell_type": "raw",
   "id": "2f1e380d-335a-4e10-a065-15f9b099a81e",
   "metadata": {},
   "source": [
    "save = NIRS.save(savepoints := dict())"
   ]
  },
  {
   "cell_type": "code",
   "execution_count": 10,
   "id": "08d55806-cc16-4eac-b2c2-a8d433e21a8d",
   "metadata": {},
   "outputs": [],
   "source": [
    "nirs.process(\n",
    "    # Convert raw (CW amplitude) to optical density (OD) signals\n",
    "        NIRS.wrap(mne.preprocessing.nirs.optical_density),\n",
    "    # Motion artifact removal -- Temporal Derivative Distribution Repair (TDDR)\n",
    "        NIRS.wrap(mne.preprocessing.nirs.tddr),\n",
    "    # Short-channel regression\n",
    "        NIRS.wrap(mne_nirs.signal_enhancement.short_channel_regression, max_dist=constants.DEVICE.SS_MAX_DIST),\n",
    "    # Optical Densities -> HbO and HbR concentrations -- Modified Beer Lambert Law (MBLL)\n",
    "        # NIRS.wrap(mne.preprocessing.nirs.beer_lambert_law, ppf=0.1),\n",
    "        NIRS.wrap(mbll.modified_beer_lambert_law),\n",
    "    # Pick long channels\n",
    "        NIRS.wrap(mne_nirs.channels.get_long_channels, min_dist=constants.DEVICE.SS_MAX_DIST, max_dist=constants.DEVICE.LS_MAX_DIST),\n",
    "    # Filter frequencies outside haemodynamic response range\n",
    "        NIRS.wrap(mne.filter.FilterMixin.filter, 0.02, 0.4, h_trans_bandwidth=0.2, l_trans_bandwidth=0.01),\n",
    "    # Negative correlation enhancement\n",
    "        NIRS.wrap(mne_nirs.signal_enhancement.enhance_negative_correlation),\n",
    "    # Get epochs\n",
    "        NIRS.get_epochs,\n",
    "    # Block average\n",
    "        NIRS.block_average\n",
    ")"
   ]
  }
 ],
 "metadata": {
  "kernelspec": {
   "display_name": "Python 3 (ipykernel)",
   "language": "python",
   "name": "python3"
  },
  "language_info": {
   "codemirror_mode": {
    "name": "ipython",
    "version": 3
   },
   "file_extension": ".py",
   "mimetype": "text/x-python",
   "name": "python",
   "nbconvert_exporter": "python",
   "pygments_lexer": "ipython3",
   "version": "3.10.8"
  }
 },
 "nbformat": 4,
 "nbformat_minor": 5
}
