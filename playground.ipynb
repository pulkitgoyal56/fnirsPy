{
 "cells": [
  {
   "cell_type": "markdown",
   "id": "e58e5d10-a56c-44be-91c8-f0263cb93cc2",
   "metadata": {
    "jp-MarkdownHeadingCollapsed": true,
    "tags": []
   },
   "source": [
    "# Imports"
   ]
  },
  {
   "cell_type": "code",
   "execution_count": 1,
   "id": "22f15b72-d26f-4e33-a01e-6535d2a20537",
   "metadata": {},
   "outputs": [],
   "source": [
    "# File R/W\n",
    "import os\n",
    "\n",
    "# Additional Inbuilt Utilities\n",
    "import itertools\n",
    "import functools\n",
    "\n",
    "# Regex\n",
    "import re\n",
    "\n",
    "# Array\n",
    "import numpy as np\n",
    "\n",
    "# Table\n",
    "import pandas as pd\n",
    "\n",
    "# Plotting\n",
    "import matplotlib.pyplot as plt\n",
    "\n",
    "# Advanced Computations\n",
    "import scipy as sc\n",
    "\n",
    "# Statistics\n",
    "import statsmodels.api as sm\n",
    "\n",
    "# Neurophysiological Data Analysis\n",
    "import mne\n",
    "import mne_nirs # esp. for fNIRS\n",
    "\n",
    "# Neuroimaging Statistical Tools\n",
    "import nilearn\n",
    "\n",
    "# Vistual Display\n",
    "from pyvirtualdisplay import Display"
   ]
  },
  {
   "cell_type": "code",
   "execution_count": 2,
   "id": "8b8c124c-8401-4761-8854-854099ba2352",
   "metadata": {},
   "outputs": [],
   "source": [
    "# Autoreload Custom Modules\n",
    "%load_ext autoreload\n",
    "%autoreload 1\n",
    "\n",
    "# Custom Settings\n",
    "%aimport constants\n",
    "\n",
    "# Custom Functions\n",
    "%aimport utils\n",
    "\n",
    "# Modified MBLL\n",
    "%aimport mbll\n",
    "\n",
    "# Custom Class\n",
    "%aimport nirs\n",
    "NIRS = nirs.NIRS"
   ]
  },
  {
   "cell_type": "markdown",
   "id": "fee37a86-6ff6-4f58-abcf-98002ad5cc6c",
   "metadata": {
    "jp-MarkdownHeadingCollapsed": true,
    "tags": []
   },
   "source": [
    "## Config"
   ]
  },
  {
   "cell_type": "code",
   "execution_count": 3,
   "id": "429c3aa1-5976-4f82-9896-e4e075415cd6",
   "metadata": {},
   "outputs": [],
   "source": [
    "mne.set_log_level('WARNING')"
   ]
  },
  {
   "cell_type": "code",
   "execution_count": 4,
   "id": "625b59f2-363a-457f-9264-8d357a1426b5",
   "metadata": {},
   "outputs": [],
   "source": [
    "# Set plotting backend for MNE\n",
    "mne.viz.set_browser_backend('matplotlib') # qt, matplotlib\n",
    "mne.viz.set_3d_backend('notebook') # pyvistaqt, notebook"
   ]
  },
  {
   "cell_type": "raw",
   "id": "44bfc7c6-f20a-48df-9807-aa812417c60a",
   "metadata": {},
   "source": [
    "# Set recommended (by MNE) plotting backend\n",
    "# %matplotlib qt"
   ]
  },
  {
   "cell_type": "raw",
   "id": "474ba645-f9c6-44d4-b295-5431724c4128",
   "metadata": {},
   "source": [
    "# Setup and start xvfb virtual display\n",
    "# disp = Display()\n",
    "# disp.start()"
   ]
  },
  {
   "cell_type": "markdown",
   "id": "0f746fc3-9fcb-4f87-a09a-85bd028c5d6e",
   "metadata": {},
   "source": [
    "# MAIN"
   ]
  },
  {
   "cell_type": "code",
   "execution_count": 5,
   "id": "d81f277a-3ca7-4cb5-9764-6d783f7f8a5b",
   "metadata": {},
   "outputs": [
    {
     "name": "stderr",
     "output_type": "stream",
     "text": [
      "/home/pulkitgoyal56/fNIRS-attentional-load/nirs.py:398: RuntimeWarning: Omitted 7 annotation(s) that were outside data range.\n",
      "  self.raw.set_annotations(mne.Annotations(\n"
     ]
    }
   ],
   "source": [
    "# Instantiate NIRS() and read data\n",
    "nirs = NIRS().read(1, 2, 3, transform=False)"
   ]
  },
  {
   "cell_type": "code",
   "execution_count": 6,
   "id": "e72b7913-183e-4f81-8647-7b03ba45768d",
   "metadata": {},
   "outputs": [
    {
     "name": "stderr",
     "output_type": "stream",
     "text": [
      "/home/pulkitgoyal56/fNIRS-attentional-load/nirs.py:480: RuntimeWarning: Negative intensities encountered. Setting to abs(x)\n",
      "  return func(self.raw, *args, **kwargs)\n"
     ]
    }
   ],
   "source": [
    "# Pre-process the data using the default pipeline, with dpf/ppf as argument (default `constants.PPF`)\n",
    "# Output is a dictionary of intermediate mne.Raw instances\n",
    "# Stages: CW     (raw signal)\n",
    "#         CWx    (backlight removed raw signal)\n",
    "#         OD     (optical density)\n",
    "#         TDD    (motion artifact removal)\n",
    "#         SSR    (short-channel regression)\n",
    "#         HB     (chromophore/haemoglobin)\n",
    "#         FL     (bandpass filtering)\n",
    "#         NCE    (negative correlation improvement)\n",
    "savepoints = nirs.default_pipeline(remove_backlight=False, tddr=False, short_channel_regression=False, bandpass=True, negative_correlation_enhancement=False, ppf=0.1)"
   ]
  },
  {
   "cell_type": "raw",
   "id": "ffb6744e-df2b-4e91-aa1a-8eedd59fb541",
   "metadata": {},
   "source": [
    "nirs.plot_average_heatmap(clim={'hbo': [-10, 10], 'hbr': [-10, 10]}).tight_layout()"
   ]
  },
  {
   "cell_type": "raw",
   "id": "8cf8d0d0-7c39-40b8-86df-53cef2a170bc",
   "metadata": {},
   "source": [
    "nirs.plot_average_waveform().tight_layout()"
   ]
  },
  {
   "cell_type": "raw",
   "id": "3b6b0064-3117-417e-92bf-887f5f90f867",
   "metadata": {},
   "source": [
    "mne.viz.plot_compare_evokeds(nirs.evoked_dict, combine='mean', ci=0.95, axes=plt.figure(figsize=(16, 4)).add_subplot(111),\n",
    "                             colors={'0': 'k', '2': 'r', '3':'g', '4':'b', '5':'y'},\n",
    "                             linestyles={'hbo': '-',\n",
    "                                         'hbr': ':'},\n",
    "                             ylim={'hbo': [-5, 5]},\n",
    "                             title='Signal Averages Across Trials and Channels for Number of Targets');"
   ]
  },
  {
   "cell_type": "raw",
   "id": "6df844c6-3969-4ed3-bfa9-8ced55041d59",
   "metadata": {},
   "source": [
    "nirs.epochs['0'].average(picks='hbo').plot_joint(times=np.arange(nirs.T_EPOCH_START, nirs.T_EPOCH_END, 3), topomap_args={'extrapolate': 'local'});"
   ]
  },
  {
   "cell_type": "markdown",
   "id": "3c3889b8-ec18-4bf2-b7d2-5007139a80ce",
   "metadata": {},
   "source": [
    "---"
   ]
  },
  {
   "cell_type": "code",
   "execution_count": 7,
   "id": "5a3878ad-ce13-47b9-9e4b-0c028b104ca8",
   "metadata": {},
   "outputs": [],
   "source": [
    "raw_haemo = nirs.raw.copy()"
   ]
  },
  {
   "cell_type": "code",
   "execution_count": 8,
   "id": "a92045a7-4eab-4bf4-bbaf-7061fd4a7885",
   "metadata": {},
   "outputs": [
    {
     "data": {
      "text/plain": [
       "<AxesSubplot: xlabel='Condition', ylabel='Theta'>"
      ]
     },
     "execution_count": 8,
     "metadata": {},
     "output_type": "execute_result"
    },
    {
     "data": {
      "image/png": "[encoded data removed]",
      "text/plain": [
       "<Figure size 1000x500 with 1 Axes>"
      ]
     },
     "metadata": {},
     "output_type": "display_data"
    }
   ],
   "source": [
    "design_matrix = mne_nirs.experimental_design.make_first_level_design_matrix(raw_haemo, drift_model=None, hrf_model='spm',\n",
    "                                                                            # high_pass=1/2/(nirs.DUR['trial']),\n",
    "                                                                            stim_dur=nirs.DUR['motion'])\n",
    "\n",
    "# design_matrix[\"ShortHbO\"] = np.mean(short_chs.copy().pick(picks=\"hbo\").get_data(), axis=0)\n",
    "# design_matrix[\"ShortHbR\"] = np.mean(short_chs.copy().pick(picks=\"hbr\").get_data(), axis=0)\n",
    "\n",
    "glm_est = mne_nirs.statistics.run_glm(raw_haemo, design_matrix)\n",
    "\n",
    "glm_est.scatter()"
   ]
  },
  {
   "cell_type": "markdown",
   "id": "32239f41-6792-4f5c-820c-a3542996607c",
   "metadata": {},
   "source": [
    "---"
   ]
  },
  {
   "cell_type": "markdown",
   "id": "dd57e685-ffc8-4840-888a-1afd2895830d",
   "metadata": {},
   "source": [
    "`Without any preprocessing steps`"
   ]
  },
  {
   "cell_type": "code",
   "execution_count": 9,
   "id": "8b96c0d5-8e93-4f00-b392-997d0edc96ff",
   "metadata": {},
   "outputs": [
    {
     "name": "stderr",
     "output_type": "stream",
     "text": [
      "/tmp/ipykernel_932786/3014415978.py:4: RuntimeWarning: Negative intensities encountered. Setting to abs(x)\n",
      "  raw_od = mne.preprocessing.nirs.optical_density(raw_intensity)\n"
     ]
    }
   ],
   "source": [
    "# Pre-process\n",
    "\n",
    "raw_intensity = savepoints['CW'].copy()\n",
    "raw_od = mne.preprocessing.nirs.optical_density(raw_intensity)\n",
    "raw_haemo = mne.preprocessing.nirs.beer_lambert_law(raw_od, ppf=0.1)\n",
    "short_chs = mne_nirs.channels.get_short_channels(raw_haemo)\n",
    "raw_haemo = mne_nirs.channels.get_long_channels(raw_haemo)\n",
    "\n",
    "# raw_haemo = nirs.raw.copy()\n",
    "# short_chs = nirs.short_channels"
   ]
  },
  {
   "cell_type": "raw",
   "id": "ed805330-68fd-403c-9b65-4f1ae2062f53",
   "metadata": {},
   "source": [
    "# View experiment events\n",
    "\n",
    "events, event_dict = mne.events_from_annotations(raw_haemo, verbose=False)\n",
    "# mne.viz.plot_events(events, event_id=event_dict, sfreq=raw_haemo.info['sfreq']);"
   ]
  },
  {
   "cell_type": "raw",
   "id": "e2a7ffff-0422-4c7f-a4cf-1af8d3e441e9",
   "metadata": {},
   "source": [
    "# Boxcar plots of events\n",
    "\n",
    "s = mne_nirs.experimental_design.create_boxcar(raw_haemo)\n",
    "fig, axes = plt.subplots(nrows=1, ncols=1, figsize=(15, 6))\n",
    "plt.plot(raw_haemo.times, s, axes=axes)\n",
    "plt.legend([\"Control\", \"Left\", \"Right\"], loc=\"upper right\")\n",
    "plt.xlabel(\"Time (s)\");"
   ]
  },
  {
   "cell_type": "code",
   "execution_count": 10,
   "id": "0e0821ef-30ed-4f1c-871d-c949e2e9fa5c",
   "metadata": {},
   "outputs": [],
   "source": [
    "# Create design matrix\n",
    "\n",
    "design_matrix = mne_nirs.experimental_design.make_first_level_design_matrix(raw_haemo, drift_model=None, hrf_model='spm',\n",
    "                                                                            # high_pass=1/2/(nirs.DUR['trial']),\n",
    "                                                                            stim_dur=nirs.DUR['motion'])"
   ]
  },
  {
   "cell_type": "raw",
   "id": "316ba393-983b-4f06-b9b4-d7ff5c19c2e9",
   "metadata": {},
   "source": [
    "# Add mean signals of short channels\n",
    "\n",
    "design_matrix[\"ShortHbO\"] = np.mean(short_chs.copy().pick(picks=\"hbo\").get_data(), axis=0)\n",
    "design_matrix[\"ShortHbR\"] = np.mean(short_chs.copy().pick(picks=\"hbr\").get_data(), axis=0)"
   ]
  },
  {
   "cell_type": "raw",
   "id": "fdec3303-a408-4873-8b74-b1f6b8231a99",
   "metadata": {},
   "source": [
    "# Visualize design matrix in heatmap\n",
    "\n",
    "fig, ax1 = plt.subplots(figsize=(10, 6), nrows=1, ncols=1)\n",
    "fig = nilearn.plotting.plot_design_matrix(design_matrix, ax=ax1)"
   ]
  },
  {
   "cell_type": "raw",
   "id": "9a4cfc25-2e60-4f72-ac50-b7426af01166",
   "metadata": {},
   "source": [
    "# Visualize expected HRF overlayed on the boxcar plot of events\n",
    "\n",
    "s = mne_nirs.experimental_design.create_boxcar(raw_intensity, stim_dur=nirs.DUR['motion'])\n",
    "plt.plot(raw_intensity.times, s[:, 0])\n",
    "plt.plot(design_matrix['0'])\n",
    "plt.xlim(0, 500)\n",
    "plt.legend([\"Stimulus\", \"Expected Response\"])\n",
    "plt.xlabel(\"Time (s)\")\n",
    "plt.ylabel(\"Amplitude\")"
   ]
  },
  {
   "cell_type": "raw",
   "id": "7b7ef538-234e-46c7-8527-e5f3c38269e4",
   "metadata": {},
   "source": [
    "# Run GLM analysis on two channels (first HbO and HbR pair)\n",
    "\n",
    "data_subset = raw_haemo.copy().pick(picks=range(2))\n",
    "glm_est = mne_nirs.statistics.run_glm(data_subset, design_matrix)"
   ]
  },
  {
   "cell_type": "code",
   "execution_count": 11,
   "id": "8415b48a-0559-4853-bb1c-daeffe804b6c",
   "metadata": {},
   "outputs": [],
   "source": [
    "# Run GLM analysis on all data\n",
    "\n",
    "glm_est = mne_nirs.statistics.run_glm(raw_haemo, design_matrix)"
   ]
  },
  {
   "cell_type": "raw",
   "id": "3a3f8f65-9e1a-4e58-997e-fbd8cd952eab",
   "metadata": {},
   "source": [
    "assert len(utils.find_long_channels(savepoints['CW'].ch_names)[0])/2 == len(raw_haemo.ch_names)/2"
   ]
  },
  {
   "cell_type": "code",
   "execution_count": 12,
   "id": "2cdd338d-aa6a-46d5-aebe-9c75328d7eaa",
   "metadata": {},
   "outputs": [
    {
     "data": {
      "text/plain": [
       "<AxesSubplot: xlabel='Condition', ylabel='Theta'>"
      ]
     },
     "execution_count": 12,
     "metadata": {},
     "output_type": "execute_result"
    },
    {
     "data": {
      "image/png": "[encoded data removed]",
      "text/plain": [
       "<Figure size 1000x500 with 1 Axes>"
      ]
     },
     "metadata": {},
     "output_type": "display_data"
    }
   ],
   "source": [
    "# Visualize regression coefficients for all channels\n",
    "\n",
    "glm_est.scatter()"
   ]
  },
  {
   "cell_type": "raw",
   "id": "f0be2d36-e70f-4d5b-965b-b4e20ddf9c98",
   "metadata": {},
   "source": [
    "# View topographic distibution of activities\n",
    "\n",
    "# glm_est.plot_topo(conditions=['0', '2', '3', '4', '5']);"
   ]
  },
  {
   "cell_type": "raw",
   "id": "f6313057-b3d4-43fb-a0a4-ecbc3a88870e",
   "metadata": {},
   "source": [
    "# Compute and visualize constrasts between cases\n",
    "\n",
    "contrast_matrix = np.eye(design_matrix.shape[1])\n",
    "basic_conts = dict([(column, contrast_matrix[i]) for i, column in enumerate(design_matrix.columns)])\n",
    "contrast_LvR = basic_conts['2'] - basic_conts['0']\n",
    "\n",
    "contrast = glm_est.compute_contrast(contrast_LvR)\n",
    "contrast.plot_topo();"
   ]
  },
  {
   "cell_type": "raw",
   "id": "b150ab25-0866-4d75-a194-15803c219ada",
   "metadata": {},
   "source": [
    "# Summarize data (compute TP and FP rates)\n",
    "\n",
    "(glm_est.to_dataframe()\n",
    " .query('Condition in [\"0\", \"2\"]')\n",
    " .drop(['df', 'mse', 'p_value', 't'], axis=1)\n",
    " .groupby(['Condition', 'Chroma', 'ch_name'])\n",
    " .agg(['mean'])\n",
    " )"
   ]
  },
  {
   "cell_type": "code",
   "execution_count": null,
   "id": "89d6c67f-7e31-4580-9953-2be9b5d90693",
   "metadata": {},
   "outputs": [],
   "source": []
  }
 ],
 "metadata": {
  "kernelspec": {
   "display_name": "Python 3 (ipykernel)",
   "language": "python",
   "name": "python3"
  },
  "language_info": {
   "codemirror_mode": {
    "name": "ipython",
    "version": 3
   },
   "file_extension": ".py",
   "mimetype": "text/x-python",
   "name": "python",
   "nbconvert_exporter": "python",
   "pygments_lexer": "ipython3",
   "version": "3.10.8"
  },
  "vscode": {
   "interpreter": {
    "hash": "0f589f7137c7f25103dd6a6e330ec0c0772eb7f22b3e4ba8c4980947ae7bbe74"
   }
  }
 },
 "nbformat": 4,
 "nbformat_minor": 5
}
